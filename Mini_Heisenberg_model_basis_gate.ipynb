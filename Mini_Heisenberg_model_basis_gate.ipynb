{
  "cells": [
    {
      "cell_type": "code",
      "execution_count": null,
      "metadata": {
        "colab": {
          "base_uri": "https://localhost:8080/"
        },
        "id": "-Y4JeBTLEia6",
        "outputId": "1189b60c-2b39-4f98-8206-9c2fa495b8f6"
      },
      "outputs": [
        {
          "output_type": "stream",
          "name": "stdout",
          "text": [
            "Collecting qiskit\n",
            "  Downloading qiskit-0.34.1.tar.gz (13 kB)\n",
            "Collecting qiskit-terra==0.19.1\n",
            "  Downloading qiskit_terra-0.19.1-cp37-cp37m-manylinux2010_x86_64.whl (6.4 MB)\n",
            "\u001b[K     |████████████████████████████████| 6.4 MB 4.5 MB/s \n",
            "\u001b[?25hCollecting qiskit-aer==0.10.2\n",
            "  Downloading qiskit_aer-0.10.2-cp37-cp37m-manylinux_2_12_x86_64.manylinux2010_x86_64.whl (18.0 MB)\n",
            "\u001b[K     |████████████████████████████████| 18.0 MB 225 kB/s \n",
            "\u001b[?25hCollecting qiskit-ibmq-provider==0.18.3\n",
            "  Downloading qiskit_ibmq_provider-0.18.3-py3-none-any.whl (238 kB)\n",
            "\u001b[K     |████████████████████████████████| 238 kB 46.6 MB/s \n",
            "\u001b[?25hCollecting qiskit-ignis==0.7.0\n",
            "  Downloading qiskit_ignis-0.7.0-py3-none-any.whl (200 kB)\n",
            "\u001b[K     |████████████████████████████████| 200 kB 42.0 MB/s \n",
            "\u001b[?25hRequirement already satisfied: numpy>=1.16.3 in /usr/local/lib/python3.7/dist-packages (from qiskit-aer==0.10.2->qiskit) (1.19.5)\n",
            "Requirement already satisfied: scipy>=1.0 in /usr/local/lib/python3.7/dist-packages (from qiskit-aer==0.10.2->qiskit) (1.4.1)\n",
            "Requirement already satisfied: requests>=2.19 in /usr/local/lib/python3.7/dist-packages (from qiskit-ibmq-provider==0.18.3->qiskit) (2.23.0)\n",
            "Collecting requests-ntlm>=1.1.0\n",
            "  Downloading requests_ntlm-1.1.0-py2.py3-none-any.whl (5.7 kB)\n",
            "Requirement already satisfied: python-dateutil>=2.8.0 in /usr/local/lib/python3.7/dist-packages (from qiskit-ibmq-provider==0.18.3->qiskit) (2.8.2)\n",
            "Requirement already satisfied: urllib3>=1.21.1 in /usr/local/lib/python3.7/dist-packages (from qiskit-ibmq-provider==0.18.3->qiskit) (1.24.3)\n",
            "Collecting websocket-client>=1.0.1\n",
            "  Downloading websocket_client-1.2.3-py3-none-any.whl (53 kB)\n",
            "\u001b[K     |████████████████████████████████| 53 kB 1.6 MB/s \n",
            "\u001b[?25hCollecting retworkx>=0.8.0\n",
            "  Downloading retworkx-0.11.0-cp37-cp37m-manylinux_2_5_x86_64.manylinux1_x86_64.manylinux_2_12_x86_64.manylinux2010_x86_64.whl (1.6 MB)\n",
            "\u001b[K     |████████████████████████████████| 1.6 MB 38.3 MB/s \n",
            "\u001b[?25hRequirement already satisfied: setuptools>=40.1.0 in /usr/local/lib/python3.7/dist-packages (from qiskit-ignis==0.7.0->qiskit) (57.4.0)\n",
            "Collecting scipy>=1.0\n",
            "  Downloading scipy-1.7.3-cp37-cp37m-manylinux_2_12_x86_64.manylinux2010_x86_64.whl (38.1 MB)\n",
            "\u001b[K     |████████████████████████████████| 38.1 MB 1.3 MB/s \n",
            "\u001b[?25hRequirement already satisfied: dill>=0.3 in /usr/local/lib/python3.7/dist-packages (from qiskit-terra==0.19.1->qiskit) (0.3.4)\n",
            "Requirement already satisfied: psutil>=5 in /usr/local/lib/python3.7/dist-packages (from qiskit-terra==0.19.1->qiskit) (5.4.8)\n",
            "Collecting symengine>=0.8\n",
            "  Downloading symengine-0.8.1-cp37-cp37m-manylinux2010_x86_64.whl (38.2 MB)\n",
            "\u001b[K     |████████████████████████████████| 38.2 MB 1.4 MB/s \n",
            "\u001b[?25hCollecting tweedledum<2.0,>=1.1\n",
            "  Downloading tweedledum-1.1.1-cp37-cp37m-manylinux_2_12_x86_64.manylinux2010_x86_64.whl (943 kB)\n",
            "\u001b[K     |████████████████████████████████| 943 kB 55.9 MB/s \n",
            "\u001b[?25hCollecting ply>=3.10\n",
            "  Downloading ply-3.11-py2.py3-none-any.whl (49 kB)\n",
            "\u001b[K     |████████████████████████████████| 49 kB 5.1 MB/s \n",
            "\u001b[?25hCollecting python-constraint>=1.4\n",
            "  Downloading python-constraint-1.4.0.tar.bz2 (18 kB)\n",
            "Requirement already satisfied: sympy>=1.3 in /usr/local/lib/python3.7/dist-packages (from qiskit-terra==0.19.1->qiskit) (1.7.1)\n",
            "Collecting stevedore>=3.0.0\n",
            "  Downloading stevedore-3.5.0-py3-none-any.whl (49 kB)\n",
            "\u001b[K     |████████████████████████████████| 49 kB 5.4 MB/s \n",
            "\u001b[?25hRequirement already satisfied: six>=1.5 in /usr/local/lib/python3.7/dist-packages (from python-dateutil>=2.8.0->qiskit-ibmq-provider==0.18.3->qiskit) (1.15.0)\n",
            "Requirement already satisfied: idna<3,>=2.5 in /usr/local/lib/python3.7/dist-packages (from requests>=2.19->qiskit-ibmq-provider==0.18.3->qiskit) (2.10)\n",
            "Requirement already satisfied: chardet<4,>=3.0.2 in /usr/local/lib/python3.7/dist-packages (from requests>=2.19->qiskit-ibmq-provider==0.18.3->qiskit) (3.0.4)\n",
            "Requirement already satisfied: certifi>=2017.4.17 in /usr/local/lib/python3.7/dist-packages (from requests>=2.19->qiskit-ibmq-provider==0.18.3->qiskit) (2021.10.8)\n",
            "Collecting ntlm-auth>=1.0.2\n",
            "  Downloading ntlm_auth-1.5.0-py2.py3-none-any.whl (29 kB)\n",
            "Collecting cryptography>=1.3\n",
            "  Downloading cryptography-36.0.1-cp36-abi3-manylinux_2_24_x86_64.whl (3.6 MB)\n",
            "\u001b[K     |████████████████████████████████| 3.6 MB 37.6 MB/s \n",
            "\u001b[?25hRequirement already satisfied: cffi>=1.12 in /usr/local/lib/python3.7/dist-packages (from cryptography>=1.3->requests-ntlm>=1.1.0->qiskit-ibmq-provider==0.18.3->qiskit) (1.15.0)\n",
            "Requirement already satisfied: pycparser in /usr/local/lib/python3.7/dist-packages (from cffi>=1.12->cryptography>=1.3->requests-ntlm>=1.1.0->qiskit-ibmq-provider==0.18.3->qiskit) (2.21)\n",
            "Collecting pbr!=2.1.0,>=2.0.0\n",
            "  Downloading pbr-5.8.1-py2.py3-none-any.whl (113 kB)\n",
            "\u001b[K     |████████████████████████████████| 113 kB 59.8 MB/s \n",
            "\u001b[?25hRequirement already satisfied: importlib-metadata>=1.7.0 in /usr/local/lib/python3.7/dist-packages (from stevedore>=3.0.0->qiskit-terra==0.19.1->qiskit) (4.10.1)\n",
            "Requirement already satisfied: zipp>=0.5 in /usr/local/lib/python3.7/dist-packages (from importlib-metadata>=1.7.0->stevedore>=3.0.0->qiskit-terra==0.19.1->qiskit) (3.7.0)\n",
            "Requirement already satisfied: typing-extensions>=3.6.4 in /usr/local/lib/python3.7/dist-packages (from importlib-metadata>=1.7.0->stevedore>=3.0.0->qiskit-terra==0.19.1->qiskit) (3.10.0.2)\n",
            "Requirement already satisfied: mpmath>=0.19 in /usr/local/lib/python3.7/dist-packages (from sympy>=1.3->qiskit-terra==0.19.1->qiskit) (1.2.1)\n",
            "Building wheels for collected packages: qiskit, python-constraint\n",
            "  Building wheel for qiskit (setup.py) ... \u001b[?25l\u001b[?25hdone\n",
            "  Created wheel for qiskit: filename=qiskit-0.34.1-py3-none-any.whl size=11771 sha256=dbb7f799f19f27ed30f97fdd8264512a7105d5bb6e30ba531c45790137eabcff\n",
            "  Stored in directory: /root/.cache/pip/wheels/79/b1/3f/8cdfd5543a84705e4bd16e081f2362b9b3bfd9898d2e2d4150\n",
            "  Building wheel for python-constraint (setup.py) ... \u001b[?25l\u001b[?25hdone\n",
            "  Created wheel for python-constraint: filename=python_constraint-1.4.0-py2.py3-none-any.whl size=24081 sha256=0d77653dc6aa3d3455a671f420294923de2ddc176310e9dee96a7b8b82c32e9d\n",
            "  Stored in directory: /root/.cache/pip/wheels/07/27/db/1222c80eb1e431f3d2199c12569cb1cac60f562a451fe30479\n",
            "Successfully built qiskit python-constraint\n",
            "Installing collected packages: pbr, tweedledum, symengine, stevedore, scipy, retworkx, python-constraint, ply, ntlm-auth, cryptography, websocket-client, requests-ntlm, qiskit-terra, qiskit-ignis, qiskit-ibmq-provider, qiskit-aer, qiskit\n",
            "  Attempting uninstall: scipy\n",
            "    Found existing installation: scipy 1.4.1\n",
            "    Uninstalling scipy-1.4.1:\n",
            "      Successfully uninstalled scipy-1.4.1\n",
            "\u001b[31mERROR: pip's dependency resolver does not currently take into account all the packages that are installed. This behaviour is the source of the following dependency conflicts.\n",
            "albumentations 0.1.12 requires imgaug<0.2.7,>=0.2.5, but you have imgaug 0.2.9 which is incompatible.\u001b[0m\n",
            "Successfully installed cryptography-36.0.1 ntlm-auth-1.5.0 pbr-5.8.1 ply-3.11 python-constraint-1.4.0 qiskit-0.34.1 qiskit-aer-0.10.2 qiskit-ibmq-provider-0.18.3 qiskit-ignis-0.7.0 qiskit-terra-0.19.1 requests-ntlm-1.1.0 retworkx-0.11.0 scipy-1.7.3 stevedore-3.5.0 symengine-0.8.1 tweedledum-1.1.1 websocket-client-1.2.3\n",
            "Collecting pylatexenc\n",
            "  Downloading pylatexenc-2.10.tar.gz (162 kB)\n",
            "\u001b[K     |████████████████████████████████| 162 kB 5.5 MB/s \n",
            "\u001b[?25hBuilding wheels for collected packages: pylatexenc\n",
            "  Building wheel for pylatexenc (setup.py) ... \u001b[?25l\u001b[?25hdone\n",
            "  Created wheel for pylatexenc: filename=pylatexenc-2.10-py3-none-any.whl size=136835 sha256=d6ec806df05aec99c8234b6ff5aeefc87b0fdf0d5b0229bc4f4e285a024dad2a\n",
            "  Stored in directory: /root/.cache/pip/wheels/f1/8a/f5/33ee79d4473eb201b519fa40f989b842e373237395a3421f52\n",
            "Successfully built pylatexenc\n",
            "Installing collected packages: pylatexenc\n",
            "Successfully installed pylatexenc-2.10\n"
          ]
        }
      ],
      "source": [
        "!pip install qiskit\n",
        "!pip install pylatexenc"
      ]
    },
    {
      "cell_type": "markdown",
      "metadata": {
        "id": "pDSQ10_AFB31"
      },
      "source": [
        "# 1 Introduction\n",
        "## 1-1 Quantum Simulation\n",
        "One of the leading uses for quantum computers will be to simulate quantum systems such as molecules or engineered materials. Actually executing a quantum simulation on a current quantum computer, however, can be difficult and error prone. Your objective for this Open Science Prize is to significantly improve the state-of-the-art for quantum simulation (details in Section 2).\n",
        "\n",
        "The quantum system you will simulate is a quantum spin-1/2 model, where each qubit represents a quantum spin-1/2 particle in a 1D chain. Quantum spin models have some amazing properties and uses. Computationally speaking, certain optimization problems can be mapped to spin models and hence minimized on a quantum computer. Physically speaking, spin models show a variety of quantum behavior such as large entangled states, quantum phases of matter, quantum many-body affects, and many other open questions in physics research.\n",
        "\n",
        "There are many different spin models, but we will focus on the $XXX$ Heisenberg spin model. Though it is not as well known as the transverse-field Ising model, the $XXX$ Heisenberg model is of practical and theoretical interest. It can also be difficult to simulate, which is where you come in.\n",
        "\n",
        "The notebook is organized as follows: 1) Section 1 (labeled 1-X) provides you with brief introductions to the $XXX$ Heisenberg model, time evolving a Hamiltonian, and decomposing a time evolution operator into gates for a quantum computer to execute. 2) Section 2 (labeled 2-X) outlines the specific requirements and boundaries associated with completing and competing in the Open Science Prize. Continuing from Section 1, the notebook showns an example solution."
      ]
    },
    {
      "cell_type": "code",
      "execution_count": null,
      "metadata": {
        "id": "XMnJNvGOEAEE"
      },
      "outputs": [],
      "source": [
        "import numpy as np\n",
        "import matplotlib.pyplot as plt\n",
        "plt.rcParams.update({'font.size': 16})  # enlarge matplotlib fonts\n",
        "\n",
        "import qiskit\n",
        "\n",
        "# Import qubit states Zero (|0>) and One (|1>), and Pauli operators (X, Y, Z)\n",
        "from qiskit.opflow import Zero, One, I, X, Y, Z\n",
        "import math\n",
        "# Suppress warnings\n",
        "import warnings\n",
        "warnings.filterwarnings('ignore')"
      ]
    },
    {
      "cell_type": "code",
      "execution_count": null,
      "metadata": {
        "id": "ssVgSm7BFumi"
      },
      "outputs": [],
      "source": [
        "# Returns the matrix representation of the XXX Heisenberg model for 3 spin-1/2 particles in a line\n",
        "def H_heis3():\n",
        "    # Interactions (I is the identity matrix; X, Y, and Z are Pauli matricies; ^ is a tensor product)\n",
        "    XXs = (I^X^X) + (X^X^I)\n",
        "    YYs = (I^Y^Y) + (Y^Y^I)\n",
        "    ZZs = (I^Z^Z) + (Z^Z^I)\n",
        "    \n",
        "    # Sum interactions\n",
        "    H = XXs + YYs + ZZs\n",
        "    \n",
        "    # Return Hamiltonian\n",
        "    return H"
      ]
    },
    {
      "cell_type": "code",
      "execution_count": null,
      "metadata": {
        "id": "uoMH4uJ1Ef9Z"
      },
      "outputs": [],
      "source": [
        "# Returns the matrix representation of U_heis3(t) for a given time t assuming an XXX Heisenberg Hamiltonian for 3 spins-1/2 particles in a line\n",
        "def U_heis3(t):\n",
        "    # Compute XXX Hamiltonian for 3 spins in a line\n",
        "    H = H_heis3()\n",
        "    \n",
        "    # Return the exponential of -i multipled by time t multipled by the 3 spin XXX Heisenberg Hamilonian \n",
        "    return (t * H).exp_i()"
      ]
    },
    {
      "cell_type": "code",
      "execution_count": null,
      "metadata": {
        "colab": {
          "base_uri": "https://localhost:8080/",
          "height": 312
        },
        "id": "4FSdWf6nFPZ_",
        "outputId": "aa60be43-74f2-41d4-f126-7a6ab5fa6764"
      },
      "outputs": [
        {
          "output_type": "display_data",
          "data": {
            "image/png": "[encoded data removed]",
            "text/plain": [
              "<Figure size 432x288 with 1 Axes>"
            ]
          },
          "metadata": {
            "needs_background": "light"
          }
        }
      ],
      "source": [
        "# Define array of time points\n",
        "ts = np.linspace(0, np.pi, 100)\n",
        "\n",
        "# Define initial state |110>\n",
        "initial_state = One^One^Zero\n",
        "\n",
        "# Compute probability of remaining in |110> state over the array of time points\n",
        " # ~initial_state gives the bra of the initial state (<110|)\n",
        " # @ is short hand for matrix multiplication\n",
        " # U_heis3(t) is the unitary time evolution at time t\n",
        " # t needs to be wrapped with float(t) to avoid a bug\n",
        " # (...).eval() returns the inner product <110|U_heis3(t)|110>\n",
        " #  np.abs(...)**2 is the modulus squared of the innner product which is the expectation value, or probability, of remaining in |110>\n",
        "probs_110 = [np.abs((~initial_state @ U_heis3(float(t)) @ initial_state).eval())**2 for t in ts]\n",
        "\n",
        "# Plot evolution of |110>\n",
        "plt.plot(ts, probs_110)\n",
        "plt.xlabel('time')\n",
        "plt.ylabel(r'probability of state $|110\\rangle$')\n",
        "plt.title(r'Evolution of state $|110\\rangle$ under $H_{Heis3}$')\n",
        "plt.grid()\n",
        "plt.show()"
      ]
    },
    {
      "cell_type": "code",
      "execution_count": null,
      "metadata": {
        "id": "rIUgPgWnFmaF"
      },
      "outputs": [],
      "source": [
        "# Importing standard Qiskit modules\n",
        "from qiskit import QuantumCircuit, QuantumRegister, IBMQ, execute, transpile\n",
        "from qiskit.providers.aer import QasmSimulator\n",
        "from qiskit.tools.monitor import job_monitor\n",
        "from qiskit.circuit import Parameter\n",
        "\n",
        "# Import state tomography modules\n",
        "from qiskit.ignis.verification.tomography import state_tomography_circuits, StateTomographyFitter\n",
        "from qiskit.quantum_info import state_fidelity\n",
        "\n",
        "from qiskit.ignis.verification.tomography import process_tomography_circuits, ProcessTomographyFitter\n",
        "\n",
        "# suppress warnings\n",
        "import warnings\n",
        "warnings.filterwarnings('ignore')"
      ]
    },
    {
      "cell_type": "code",
      "execution_count": null,
      "metadata": {
        "colab": {
          "base_uri": "https://localhost:8080/"
        },
        "id": "TX_0NFtMF5fX",
        "outputId": "c96db6b0-bbc8-450c-9eab-1cd51fd14df7"
      },
      "outputs": [
        {
          "output_type": "execute_result",
          "data": {
            "text/plain": [
              "<AccountProvider for IBMQ(hub='ibm-q', group='open', project='main')>"
            ]
          },
          "metadata": {},
          "execution_count": 7
        }
      ],
      "source": [
        "# load IBMQ Account data\n",
        "IBMQ.save_account('',overwrite=True )\n",
        "IBMQ.load_account()\n",
        "\n",
        "# IBMQ.save_account(TOKEN)  # replace TOKEN with your API token string (https://quantum-computing.ibm.com/lab/docs/iql/manage/account/ibmq)\n",
        "#provider = IBMQ.load_account()"
      ]
    },
    {
      "cell_type": "code",
      "execution_count": null,
      "metadata": {
        "id": "HoVOPxISGpKh"
      },
      "outputs": [],
      "source": [
        "#provider = IBMQ.get_provider(hub='ibm-q-research-2', group='iowa-state-uni-1', project='main')\n",
        "provider = IBMQ.get_provider(hub='ibm-q-community', group='ibmquantumawards', project='open-science-22')\n",
        "jakarta = provider.get_backend('ibmq_jakarta')"
      ]
    },
    {
      "cell_type": "code",
      "execution_count": null,
      "metadata": {
        "id": "J7NwEMFpGuT9"
      },
      "outputs": [],
      "source": [
        "# Simulated backend based on ibmq_jakarta's device noise profile\n",
        "sim_noisy_jakarta = QasmSimulator.from_backend(provider.get_backend('ibmq_jakarta'))\n",
        "\n",
        "# Noiseless simulated backend\n",
        "sim = QasmSimulator()"
      ]
    },
    {
      "cell_type": "code",
      "execution_count": null,
      "metadata": {
        "id": "Og8g4UsrG3Wk"
      },
      "outputs": [],
      "source": [
        "# Parameterize variable t to be evaluated at t=pi later\n",
        "t = Parameter('t')"
      ]
    },
    {
      "cell_type": "code",
      "execution_count": null,
      "metadata": {
        "id": "1lCcbHS5G7_6"
      },
      "outputs": [],
      "source": [
        "# Build a subcircuit for XX(t) two-qubit gate\n",
        "XX_qr = QuantumRegister(2)\n",
        "XX_qc = QuantumCircuit(XX_qr, name='XX')\n",
        "\n",
        "XX_qc.ry(np.pi/2,[0,1])\n",
        "XX_qc.cnot(0,1)\n",
        "XX_qc.rz(2 * t, 1)\n",
        "XX_qc.cnot(0,1)\n",
        "XX_qc.ry(-np.pi/2,[0,1])\n",
        "\n",
        "# Convert custom quantum circuit into a gate\n",
        "XX = XX_qc.to_instruction()"
      ]
    },
    {
      "cell_type": "code",
      "execution_count": null,
      "metadata": {
        "id": "6taDWc_EHAL8"
      },
      "outputs": [],
      "source": [
        "# Build a subcircuit for YY(t) two-qubit gate\n",
        "YY_qr = QuantumRegister(2)\n",
        "YY_qc = QuantumCircuit(YY_qr, name='YY')\n",
        "\n",
        "YY_qc.rx(np.pi/2,[0,1])\n",
        "YY_qc.cnot(0,1)\n",
        "YY_qc.rz(2 * t, 1)\n",
        "YY_qc.cnot(0,1)\n",
        "YY_qc.rx(-np.pi/2,[0,1])\n",
        "\n",
        "# Convert custom quantum circuit into a gate\n",
        "YY = YY_qc.to_instruction()"
      ]
    },
    {
      "cell_type": "code",
      "execution_count": null,
      "metadata": {
        "id": "-BWUGC6gHDYB"
      },
      "outputs": [],
      "source": [
        "# Build a subcircuit for ZZ(t) two-qubit gate\n",
        "ZZ_qr = QuantumRegister(2)\n",
        "ZZ_qc = QuantumCircuit(ZZ_qr, name='ZZ')\n",
        "\n",
        "ZZ_qc.cnot(0,1)\n",
        "ZZ_qc.rz(2 * t, 1)\n",
        "ZZ_qc.cnot(0,1)\n",
        "\n",
        "# Convert custom quantum circuit into a gate\n",
        "ZZ = ZZ_qc.to_instruction()"
      ]
    },
    {
      "cell_type": "code",
      "execution_count": null,
      "metadata": {
        "id": "Jtr9SQ8fWzE0"
      },
      "outputs": [],
      "source": [
        "heis_qr = QuantumRegister(2)\n",
        "heis_qc = QuantumCircuit(heis_qr, name='heis')\n",
        "\n",
        "heis_qc.rz(-np.pi/2,1)\n",
        "heis_qc.cnot(1,0)\n",
        "heis_qc.rz(np.pi/2-2 * t, 0)\n",
        "heis_qc.ry(-np.pi/2+2 * t, 1)\n",
        "heis_qc.cnot(0,1)\n",
        "heis_qc.ry(np.pi/2-2 * t, 1)\n",
        "heis_qc.cnot(1,0)\n",
        "heis_qc.rz(np.pi/2,1)\n",
        "\n",
        "# Convert custom quantum circuit into a gate\n",
        "heis = heis_qc.to_instruction()"
      ]
    },
    {
      "cell_type": "code",
      "execution_count": null,
      "metadata": {
        "id": "4lrLg6sXKSF8"
      },
      "outputs": [],
      "source": [
        "# Combine subcircuits into a single multiqubit gate representing a single trotter step\n",
        "num_qubits = 3\n",
        "\n",
        "Trot_qr = QuantumRegister(num_qubits)\n",
        "Trot_qc = QuantumCircuit(Trot_qr, name='Trot')\n",
        "\n",
        "for i in range(0, num_qubits - 1):\n",
        "    Trot_qc.append(heis, [Trot_qr[i], Trot_qr[i+1]])\n",
        "    #Trot_qc.append(ZZ, [Trot_qr[i], Trot_qr[i+1]])\n",
        "    #Trot_qc.append(YY, [Trot_qr[i], Trot_qr[i+1]])\n",
        "    #Trot_qc.append(XX, [Trot_qr[i], Trot_qr[i+1]])\n",
        "\n",
        "# Convert custom quantum circuit into a gate\n",
        "Trot_gate = Trot_qc.to_instruction()"
      ]
    },
    {
      "cell_type": "code",
      "execution_count": null,
      "metadata": {
        "colab": {
          "base_uri": "https://localhost:8080/",
          "height": 413
        },
        "id": "A6NDcwFMKW-U",
        "outputId": "90e357f8-fcfd-46ae-e0c3-09f54b584c47"
      },
      "outputs": [
        {
          "output_type": "execute_result",
          "data": {
            "image/png": "[encoded data removed]",
            "text/plain": [
              "<Figure size 814.864x505.68 with 1 Axes>"
            ]
          },
          "metadata": {},
          "execution_count": 128
        }
      ],
      "source": [
        "# The final time of the state evolution\n",
        "target_time = np.pi#+0.1\n",
        "\n",
        "# Number of trotter steps\n",
        "trotter_steps = 6 ### CAN BE >= 4\n",
        "\n",
        "# Initialize quantum circuit for 3 qubits\n",
        "qr = QuantumRegister(7)\n",
        "qc = QuantumCircuit(qr)\n",
        "\n",
        "# Prepare initial state (remember we are only evolving 3 of the 7 qubits on jakarta qubits (q_5, q_3, q_1) corresponding to the state |110>)\n",
        "qc.x([3,5])  # DO NOT MODIFY (|q_5,q_3,q_1> = |110>)\n",
        "\n",
        "# Simulate time evolution under H_heis3 Hamiltonian\n",
        "for _ in range(trotter_steps):\n",
        "    qc.append(Trot_gate, [qr[1], qr[3], qr[5]])\n",
        "\n",
        "# Evaluate simulation at target_time (t=pi) meaning each trotter step evolves pi/trotter_steps in time\n",
        "qc = qc.bind_parameters({t: target_time/trotter_steps})\n",
        "\n",
        "# Generate state tomography circuits to evaluate fidelity of simulation\n",
        "st_qcs = state_tomography_circuits(qc, [qr[1], qr[3], qr[5]])\n",
        "\n",
        "# Display circuit for confirmation\n",
        "# st_qcs[-1].decompose().draw()  # view decomposition of trotter gates\n",
        "st_qcs[-1].draw('mpl')  # only view trotter gates"
      ]
    },
    {
      "cell_type": "code",
      "execution_count": null,
      "metadata": {
        "id": "mXaIZpEv9XSH"
      },
      "outputs": [],
      "source": [
        "def DD_circuit(circuit, backend, qubits_list, initial_layout = None, name=False):\n",
        "\n",
        "  if initial_layout:\n",
        "\n",
        "    circuit = transpile(circuit, backend, optimization_level=0, scheduling_method='asap',initial_layout =init_layout)\n",
        "\n",
        "  else:\n",
        "\n",
        "    circuit = transpile(circuit, backend, optimization_level=0, scheduling_method='asap')\n",
        "\n",
        "  if name:\n",
        "\n",
        "    DD_cir = QuantumCircuit(*circuit.qregs,*circuit.cregs,name=circuit.name)\n",
        "\n",
        "  else:\n",
        "\n",
        "    DD_cir = QuantumCircuit(*circuit.qregs,*circuit.cregs)\n",
        "  \n",
        "  for operation in circuit[:]:\n",
        "\n",
        "    if type(operation[0])==qiskit.circuit.delay.Delay:\n",
        "\n",
        "      if  operation[0].duration >= 400:\n",
        "\n",
        "        q_index = operation[1][0].index\n",
        "\n",
        "        if q_index in qubits_list:\n",
        "\n",
        "          t=(operation[0].duration-320)//4\n",
        "\n",
        "          t = math.ceil((t)/16)*16\n",
        "\n",
        "          DD_cir.delay(t,[q_index],'dt')\n",
        "\n",
        "          DD_cir.x(q_index)\n",
        "\n",
        "          DD_cir.delay(2*t,[q_index],'dt')\n",
        "\n",
        "          DD_cir.z(q_index)\n",
        "\n",
        "          DD_cir.x(q_index)\n",
        "\n",
        "          DD_cir.z(q_index)\n",
        "\n",
        "        else:\n",
        "\n",
        "          DD_cir.data.append(operation)\n",
        "\n",
        "      else:\n",
        "        \n",
        "        DD_cir.data.append(operation)\n",
        "\n",
        "    else:\n",
        "\n",
        "      DD_cir.data.append(operation)\n",
        "\n",
        "  return DD_cir"
      ]
    },
    {
      "cell_type": "code",
      "execution_count": null,
      "metadata": {
        "id": "goiueFxAByky"
      },
      "outputs": [],
      "source": [
        "from qiskit import *"
      ]
    },
    {
      "cell_type": "code",
      "execution_count": null,
      "metadata": {
        "id": "AHQvPGm0y8zr"
      },
      "outputs": [],
      "source": [
        "from qiskit.ignis.mitigation.measurement import complete_meas_cal, CompleteMeasFitter"
      ]
    },
    {
      "cell_type": "code",
      "execution_count": null,
      "metadata": {
        "id": "f1iYv4SOJU90"
      },
      "outputs": [],
      "source": [
        "qubits_list = [1,3,5]\n",
        "\n",
        "cirs=[]\n",
        "\n",
        "for i in range(len(st_qcs)):\n",
        "\n",
        "    cir=DD_circuit(st_qcs[i], jakarta, qubits_list, name=True )\n",
        "\n",
        "    cir = transpile(cir, jakarta, optimization_level=0, scheduling_method='asap')\n",
        "\n",
        "    cirs.append(cir)"
      ]
    },
    {
      "cell_type": "code",
      "execution_count": null,
      "metadata": {
        "id": "uBHm38OCCOb6"
      },
      "outputs": [],
      "source": [
        "qubits_list = [1,3,5]\n",
        "\n",
        "shots=8192\n",
        "\n",
        "qr = QuantumRegister(len(qubits_list),'q')\n",
        "\n",
        "meas_calibs, state_labels = complete_meas_cal(qr=qr, circlabel='mcal')"
      ]
    },
    {
      "cell_type": "code",
      "execution_count": null,
      "metadata": {
        "colab": {
          "base_uri": "https://localhost:8080/",
          "height": 35
        },
        "id": "S_Q3ZNRwzI6m",
        "outputId": "305e7425-22fd-4fde-9d0e-05e0d945f11e"
      },
      "outputs": [
        {
          "output_type": "stream",
          "name": "stdout",
          "text": [
            "Job ID 6201d91f0346cd21e4149c07\n"
          ]
        }
      ],
      "source": [
        "\n",
        "init_layout = {}\n",
        "\n",
        "for i,j in enumerate(qubits_list):\n",
        "\n",
        "    init_layout[qr[i]] = j\n",
        "\n",
        "cal_results = execute(meas_calibs, jakarta, shots=shots, initial_layout=init_layout)\n",
        "\n",
        "print('Job ID', cal_results.job_id())"
      ]
    },
    {
      "cell_type": "code",
      "execution_count": null,
      "metadata": {
        "colab": {
          "base_uri": "https://localhost:8080/",
          "height": 89
        },
        "id": "STuvLeLjKbEu",
        "outputId": "3f8682c0-e933-4898-fdb5-cf98e5eba125"
      },
      "outputs": [
        {
          "output_type": "stream",
          "name": "stdout",
          "text": [
            "Job ID 6201d922620089f3ccdde520\n",
            "Job ID 6201d927f7a5d858ce0b3fc2\n",
            "Job ID 6201d92bf7a5d842c90b3fc3\n",
            "Job ID 6201d930f7a5d89fc80b3fc4\n"
          ]
        }
      ],
      "source": [
        "shots = 32000 #8192\n",
        "reps = 4\n",
        "backend = sim_noisy_jakarta\n",
        "# reps = 8\n",
        "backend = jakarta\n",
        "\n",
        "jobs = []\n",
        "for _ in range(reps):\n",
        "    # execute\n",
        "    #job = execute(cirs, backend, shots=shots)\n",
        "    job = execute(st_qcs, backend, shots=shots)\n",
        "    print('Job ID', job.job_id())\n",
        "    jobs.append(job)"
      ]
    },
    {
      "cell_type": "code",
      "execution_count": null,
      "metadata": {
        "colab": {
          "base_uri": "https://localhost:8080/",
          "height": 89
        },
        "id": "WuQa2RYTKbxx",
        "outputId": "661c825b-de01-4272-977c-5f7d1b68fdab"
      },
      "outputs": [
        {
          "output_type": "stream",
          "name": "stdout",
          "text": [
            "Job Status: job has successfully run\n",
            "Job Status: job has successfully run\n",
            "Job Status: job has successfully run\n",
            "Job Status: job has successfully run\n"
          ]
        }
      ],
      "source": [
        "for job in jobs:\n",
        "    job_monitor(job)\n",
        "    try:\n",
        "        if job.error_message() is not None:\n",
        "            print(job.error_message())\n",
        "    except:\n",
        "        pass"
      ]
    },
    {
      "cell_type": "code",
      "execution_count": null,
      "metadata": {
        "id": "SJAKkHK7B0FZ"
      },
      "outputs": [],
      "source": [
        "#cal_results=backend.retrieve_job('61aac3f06a8ec04639199bcd')\n",
        "\n",
        "#cal_results=backend.retrieve_job('61a67121727f7d0a25ddb2fe')"
      ]
    },
    {
      "cell_type": "code",
      "execution_count": null,
      "metadata": {
        "id": "tM0VW2fW7sGI"
      },
      "outputs": [],
      "source": [
        "meas_fitter = CompleteMeasFitter(cal_results.result(), state_labels)\n",
        "\n",
        "meas_filter = meas_fitter.filter"
      ]
    },
    {
      "cell_type": "code",
      "execution_count": null,
      "metadata": {
        "id": "ThHkBs_FKez-",
        "colab": {
          "base_uri": "https://localhost:8080/"
        },
        "outputId": "04483c7c-cfc4-49b8-d3ad-671ef3507ff5"
      },
      "outputs": [
        {
          "output_type": "stream",
          "name": "stdout",
          "text": [
            "state tomography fidelity = 0.4426 ± 0.0255\n"
          ]
        }
      ],
      "source": [
        "# Compute the state tomography based on the st_qcs quantum circuits and the results from those ciricuits\n",
        "def state_tomo(result, st_qcs):\n",
        "    # The expected final state; necessary to determine state tomography fidelity\n",
        "    target_state = (One^One^Zero).to_matrix()  # DO NOT MODIFY (|q_5,q_3,q_1> = |110>)\n",
        "    # Fit state tomography results\n",
        "\n",
        "    mit_result = meas_fitter.filter.apply(result)\n",
        "\n",
        "    tomo_fitter = StateTomographyFitter(mit_result, st_qcs)\n",
        "\n",
        "    rho_fit = tomo_fitter.fit(method='lstsq')\n",
        "    # Compute fidelity\n",
        "    fid = state_fidelity(rho_fit, target_state)\n",
        "    return fid\n",
        "\n",
        "# Compute tomography fidelities for each repetition\n",
        "\n",
        "fids = []\n",
        "for job in jobs:\n",
        "    fid = state_tomo(job.result(), st_qcs)\n",
        "    fids.append(fid)\n",
        "    \n",
        "print('state tomography fidelity = {:.4f} \\u00B1 {:.4f}'.format(np.mean(fids), np.std(fids)))"
      ]
    },
    {
      "cell_type": "code",
      "execution_count": null,
      "metadata": {
        "id": "Fw7DB2YiKilC",
        "colab": {
          "base_uri": "https://localhost:8080/",
          "height": 337
        },
        "outputId": "e741c388-b12f-431a-dae7-5191db29f254"
      },
      "outputs": [
        {
          "output_type": "display_data",
          "data": {
            "text/html": [
              "<h3>Version Information</h3><table><tr><th>Qiskit Software</th><th>Version</th></tr><tr><td><code>qiskit-terra</code></td><td>0.19.1</td></tr><tr><td><code>qiskit-aer</code></td><td>0.10.2</td></tr><tr><td><code>qiskit-ignis</code></td><td>0.7.0</td></tr><tr><td><code>qiskit-ibmq-provider</code></td><td>0.18.3</td></tr><tr><th>System information</th></tr><tr><td>Python version</td><td>3.7.12</td></tr><tr><td>Python compiler</td><td>GCC 7.5.0</td></tr><tr><td>Python build</td><td>default, Jan 15 2022 18:48:18</td></tr><tr><td>OS</td><td>Linux</td></tr><tr><td>CPUs</td><td>1</td></tr><tr><td>Memory (Gb)</td><td>12.686653137207031</td></tr><tr><td colspan='2'>Tue Feb 08 03:08:23 2022 UTC</td></tr></table>"
            ],
            "text/plain": [
              "<IPython.core.display.HTML object>"
            ]
          },
          "metadata": {}
        }
      ],
      "source": [
        "import qiskit.tools.jupyter\n",
        "%qiskit_version_table"
      ]
    },
    {
      "cell_type": "code",
      "execution_count": null,
      "metadata": {
        "id": "9jwXiRoYK-LY",
        "colab": {
          "base_uri": "https://localhost:8080/"
        },
        "outputId": "4ace3817-bbeb-422f-90b0-11f4fbabccc0"
      },
      "outputs": [
        {
          "output_type": "execute_result",
          "data": {
            "text/plain": [
              "[0.46112449002183814,\n",
              " 0.4248126774037962,\n",
              " 0.47346532763382837,\n",
              " 0.4110893691736049]"
            ]
          },
          "metadata": {},
          "execution_count": 141
        }
      ],
      "source": [
        "fids"
      ]
    },
    {
      "cell_type": "code",
      "execution_count": null,
      "metadata": {
        "id": "-XexyrkpfvxG"
      },
      "outputs": [],
      "source": [
        ""
      ]
    }
  ],
  "metadata": {
    "colab": {
      "name": "Mini_Heisenberg_model_basis_gate.ipynb",
      "provenance": []
    },
    "kernelspec": {
      "display_name": "Python 3",
      "name": "python3"
    },
    "language_info": {
      "name": "python"
    }
  },
  "nbformat": 4,
  "nbformat_minor": 0
}