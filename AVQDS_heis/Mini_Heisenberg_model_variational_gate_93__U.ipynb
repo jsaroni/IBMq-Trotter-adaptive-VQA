{
 "cells": [
  {
   "cell_type": "markdown",
   "metadata": {},
   "source": [
    "# Adaptive Variational Quantum Dynamics of Heisenberg model\n"
   ]
  },
  {
   "cell_type": "code",
   "execution_count": 1,
   "metadata": {},
   "outputs": [],
   "source": [
    "import numpy as np\n",
    "import os\n",
    "import sys\n",
    "import time\n",
    "from model import zzxzmodel\n",
    "from model import heis\n",
    "from ansatz import ansatz\n",
    "from avaridyn import avaridynIsing\n",
    "from avaridyn import avaridynHeis\n",
    "from ansatz import generate_op_pools\n",
    "from qiskit import QuantumCircuit, QuantumRegister, execute\n",
    "from qiskit.opflow import Zero, One, I, X, Y, Z"
   ]
  },
  {
   "cell_type": "markdown",
   "metadata": {},
   "source": [
    "## The initial setup"
   ]
  },
  {
   "cell_type": "code",
   "execution_count": 3,
   "metadata": {},
   "outputs": [],
   "source": [
    "N=3 # The system size\n",
    "\n",
    "\n",
    "start = time.time() \n",
    "\n",
    "\n",
    "nsite = N\n",
    "\n",
    "# init_state = ([state for supersposition],[phase]) : phase e^(i\\phi)\n",
    "init_state_1 = ([3],[1]) #Create initial state 0-> [down,down,down], 1-> [up,down,down].....\n",
    "\n",
    "# Make initial state at ref_state at t=0\n",
    "ref_state = np.zeros((2**nsite),dtype=complex)\n",
    "\n",
    "if len(init_state_1[0])==1:\n",
    "    \n",
    "    ref_state[init_state_1[0][0]] = 1\n",
    "    \n",
    "else:\n",
    "    \n",
    "    for i in range(len(init_state_1[0])):\n",
    "        \n",
    "        ref_state[init_state_1[0][i]]=init_state_1[1][i]/np.sqrt(len(init_state_1[0]))"
   ]
  },
  {
   "cell_type": "markdown",
   "metadata": {},
   "source": [
    "## Build the model and run AVQDS for the model"
   ]
  },
  {
   "cell_type": "code",
   "execution_count": 5,
   "metadata": {},
   "outputs": [],
   "source": [
    "ans = ansatz(nsite, ref_state = ref_state, pool='Heis', pthcut=9000) # Create Heisenberg operator pool: Rzz, Rxx, Ryy\n",
    "\n",
    "# builds up the Hamiltonian model (see model.py)\n",
    "model = heis(nsite=nsite, T=np.pi, Jzz_init = np.ones(nsite), Jxx_init= np.zeros(nsite), Jyy_init = np.zeros(nsite), hs_init = np.zeros(nsite), Jxx=1.0, Jyy=1.0, Jzz=1.0)\n",
    "# T: the total evolution time. If one wan to get U(\\pi/4), one can set it as np.pi/4\n",
    "\n",
    "\n",
    "# The set up for time evolution with Hamiltonian\n",
    "dyn = avaridynHeis(model, ans, quench_type = 1, init_state = init_state_1, dtmax=0.001, dthmax=0.01) \n",
    "\n",
    "dyn.run() # Run avqds simulator to find best parameters and operators for pseudo-Trotter time evolution. \n",
    "# (also save the file named as params_trace.dat and ansatz.h5)"
   ]
  },
  {
   "cell_type": "code",
   "execution_count": 6,
   "metadata": {},
   "outputs": [
    {
     "name": "stdout",
     "output_type": "stream",
     "text": [
      "['0.040738880032', '9.493652320021', '0.261749023042', '0.261749023042', '6.568806943890']\n"
     ]
    }
   ],
   "source": [
    "target_t=np.pi # the evolution time we want to get. If one wan to get U(\\pi/4), one can set it as np.pi/4\n",
    "f = open(\"params_trace.DAT\", \"r\") # open the variational parameters file\n",
    "num_string = f.readline()\n",
    "pi_closer = 0\n",
    "del_num = 1000\n",
    "while num_string != '': \n",
    "    num = num_string.split()\n",
    "    time = float(num[0])\n",
    "\n",
    "    if min(del_num,np.abs(time-target_t))==del_num:\n",
    "        pass\n",
    "    else:\n",
    "        del_num=np.abs(time-target_t)\n",
    "        pi_closer=time\n",
    "        params=num[1:]\n",
    "    num_string = f.readline()\n",
    "\n",
    "print(params) # The variational parameters"
   ]
  },
  {
   "cell_type": "code",
   "execution_count": 7,
   "metadata": {},
   "outputs": [
    {
     "name": "stdout",
     "output_type": "stream",
     "text": [
      "The 0th variational parameter are: 0.0407\n",
      "The corresponding Operator is XX(0,1)\n",
      "The 1th variational parameter are: 9.4937\n",
      "The corresponding Operator is ZZ(1,2)\n",
      "The 2th variational parameter are: 0.2617\n",
      "The corresponding Operator is XX(1,2)\n",
      "The 3th variational parameter are: 0.2617\n",
      "The corresponding Operator is YY(1,2)\n",
      "The 4th variational parameter are: 6.5688\n",
      "The corresponding Operator is ZZ(0,1)\n"
     ]
    }
   ],
   "source": [
    "for i in range(len(params)):\n",
    "    print('The '+str(i)+'th variational parameter are:', round(float(params[i]),4))\n",
    "    \n",
    "    if ans._ansatz[1][i][1] == 1:\n",
    "    \n",
    "        print('The corresponding Operator is XX('+str(ans._ansatz[1][i][0])+','+str(ans._ansatz[1][i][2])+')')\n",
    "    \n",
    "    elif ans._ansatz[1][i][1] == 2:\n",
    "        \n",
    "        print('The corresponding Operator is YY('+str(ans._ansatz[1][i][0])+','+str(ans._ansatz[1][i][2])+')')\n",
    "        \n",
    "    elif ans._ansatz[1][i][1] == 3:\n",
    "        \n",
    "        print('The corresponding Operator is ZZ('+str(ans._ansatz[1][i][0])+','+str(ans._ansatz[1][i][2])+')')"
   ]
  },
  {
   "cell_type": "markdown",
   "metadata": {},
   "source": [
    "## Create the Quantum Variational Circuit"
   ]
  },
  {
   "cell_type": "code",
   "execution_count": 8,
   "metadata": {},
   "outputs": [],
   "source": [
    "qc = QuantumCircuit(nsite) # create quantum circuit\n",
    "qc.x([1,2])\n",
    "for i,op in enumerate(ans._ansatz[1]):\n",
    "    if op[1]==3:                             # op[1]=3: means Rzz gate\n",
    "        qc.rzz(float(params[i]),op[0],op[2])\n",
    "    elif op[1]==2:                           # op[1]=2: means Ryy gate\n",
    "        qc.ryy(float(params[i]),op[0],op[2])\n",
    "    elif op[1]==1:                           # # op[1]=1: means Rxx gate\n",
    "        qc.rxx(float(params[i]),op[0],op[2])"
   ]
  },
  {
   "cell_type": "markdown",
   "metadata": {},
   "source": [
    "## State Tomography Test on Simulator"
   ]
  },
  {
   "cell_type": "code",
   "execution_count": 9,
   "metadata": {},
   "outputs": [],
   "source": [
    "from qiskit.ignis.verification.tomography import state_tomography_circuits, StateTomographyFitter\n",
    "from qiskit.providers.aer import QasmSimulator\n",
    "from qiskit.quantum_info import state_fidelity\n",
    "import warnings\n",
    "warnings.filterwarnings('ignore')"
   ]
  },
  {
   "cell_type": "code",
   "execution_count": 10,
   "metadata": {},
   "outputs": [],
   "source": [
    "st_qcs = state_tomography_circuits(qc,[0,1,2]) # create circuits for state tomography\n",
    "backend = QasmSimulator(method='statevector')"
   ]
  },
  {
   "cell_type": "code",
   "execution_count": 11,
   "metadata": {},
   "outputs": [],
   "source": [
    "reps=4\n",
    "jobs = []\n",
    "shots=8192\n",
    "for _ in range(reps):\n",
    "    # execute\n",
    "    job = execute(st_qcs, backend, shots=shots)\n",
    "    jobs.append(job)"
   ]
  },
  {
   "cell_type": "code",
   "execution_count": 12,
   "metadata": {},
   "outputs": [],
   "source": [
    "def state_tomo(result, st_qcs): #, time):\n",
    "    # The expected final state; necessary to determine state tomography fidelity\n",
    "    target_state = (One^One^Zero).to_matrix()  # DO NOT MODIFY (|q_5,q_3,q_1> = |110>)\n",
    "    # Fit state tomography results\n",
    "    initial_state = One^One^Zero\n",
    "\n",
    "    tomo_fitter = StateTomographyFitter(result, st_qcs)\n",
    "\n",
    "    rho_fit = tomo_fitter.fit(method='lstsq')\n",
    "    # Compute fidelity\n",
    "    fid = state_fidelity(rho_fit, target_state)\n",
    "    return fid"
   ]
  },
  {
   "cell_type": "code",
   "execution_count": 13,
   "metadata": {},
   "outputs": [
    {
     "name": "stdout",
     "output_type": "stream",
     "text": [
      "state tomography fidelity = 0.9957 ± 0.0009\n"
     ]
    }
   ],
   "source": [
    "fids = []\n",
    "for job in jobs:\n",
    "    fid = state_tomo(job.result(), st_qcs)#, target_time)\n",
    "    fids.append(fid)\n",
    "    \n",
    "print('state tomography fidelity = {:.4f} \\u00B1 {:.4f}'.format(np.mean(fids), np.std(fids)))"
   ]
  },
  {
   "cell_type": "markdown",
   "metadata": {},
   "source": [
    "\n",
    "# Quantum Simulation\n"
   ]
  },
  {
   "cell_type": "code",
   "execution_count": 14,
   "metadata": {
    "id": "XMnJNvGOEAEE"
   },
   "outputs": [],
   "source": [
    "import numpy as np\n",
    "import matplotlib.pyplot as plt\n",
    "plt.rcParams.update({'font.size': 16})  # enlarge matplotlib fonts\n",
    "\n",
    "import qiskit\n",
    "\n",
    "# Import qubit states Zero (|0>) and One (|1>), and Pauli operators (X, Y, Z)\n",
    "from qiskit.opflow import Zero, One, I, X, Y, Z\n",
    "import math\n",
    "# Suppress warnings\n",
    "import warnings\n",
    "warnings.filterwarnings('ignore')"
   ]
  },
  {
   "cell_type": "code",
   "execution_count": 15,
   "metadata": {
    "id": "ssVgSm7BFumi"
   },
   "outputs": [],
   "source": [
    "# Returns the matrix representation of the XXX Heisenberg model for 3 spin-1/2 particles in a line\n",
    "def H_heis3():\n",
    "    # Interactions (I is the identity matrix; X, Y, and Z are Pauli matricies; ^ is a tensor product)\n",
    "    XXs = (I^X^X) + (X^X^I)\n",
    "    YYs = (I^Y^Y) + (Y^Y^I)\n",
    "    ZZs = (I^Z^Z) + (Z^Z^I)\n",
    "    \n",
    "    # Sum interactions\n",
    "    H = XXs + YYs + ZZs\n",
    "    \n",
    "    # Return Hamiltonian\n",
    "    return H"
   ]
  },
  {
   "cell_type": "code",
   "execution_count": 16,
   "metadata": {
    "id": "uoMH4uJ1Ef9Z"
   },
   "outputs": [],
   "source": [
    "# Returns the matrix representation of U_heis3(t) for a given time t assuming an XXX Heisenberg Hamiltonian for 3 spins-1/2 particles in a line\n",
    "def U_heis3(t):\n",
    "    # Compute XXX Hamiltonian for 3 spins in a line\n",
    "    H = H_heis3()\n",
    "    \n",
    "    # Return the exponential of -i multipled by time t multipled by the 3 spin XXX Heisenberg Hamilonian \n",
    "    return (t * H).exp_i()"
   ]
  },
  {
   "cell_type": "code",
   "execution_count": 17,
   "metadata": {
    "colab": {
     "base_uri": "https://localhost:8080/",
     "height": 312
    },
    "id": "4FSdWf6nFPZ_",
    "outputId": "29c9c9e7-2e7a-49fe-8b6e-dcafc771fb0a"
   },
   "outputs": [
    {
     "data": {
      "image/png": "[encoded data removed]",
      "text/plain": [
       "<Figure size 432x288 with 1 Axes>"
      ]
     },
     "metadata": {
      "needs_background": "light"
     },
     "output_type": "display_data"
    }
   ],
   "source": [
    "# Define array of time points\n",
    "ts = np.linspace(0, np.pi, 100)\n",
    "\n",
    "# Define initial state |110>\n",
    "initial_state = One^One^Zero\n",
    "\n",
    "\n",
    "# Compute probability of remaining in |110> state over the array of time points\n",
    " # ~initial_state gives the bra of the initial state (<110|)\n",
    " # @ is short hand for matrix multiplication\n",
    " # U_heis3(t) is the unitary time evolution at time t\n",
    " # t needs to be wrapped with float(t) to avoid a bug\n",
    " # (...).eval() returns the inner product <110|U_heis3(t)|110>\n",
    " #  np.abs(...)**2 is the modulus squared of the innner product which is the expectation value, or probability, of remaining in |110>\n",
    "probs_110 = [np.abs((~initial_state @ U_heis3(float(t)) @ initial_state).eval())**2 for t in ts]\n",
    "\n",
    "# Plot evolution of |110>\n",
    "plt.plot(ts, probs_110)\n",
    "plt.xlabel('time')\n",
    "plt.ylabel(r'probability of state $|110\\rangle$')\n",
    "plt.title(r'Evolution of state $|110\\rangle$ under $H_{Heis3}$')\n",
    "plt.grid()\n",
    "plt.show()"
   ]
  },
  {
   "cell_type": "markdown",
   "metadata": {},
   "source": [
    "# Run on the Real device"
   ]
  },
  {
   "cell_type": "code",
   "execution_count": null,
   "metadata": {
    "id": "rIUgPgWnFmaF"
   },
   "outputs": [],
   "source": [
    "# Importing standard Qiskit modules\n",
    "from qiskit import QuantumCircuit, QuantumRegister, IBMQ, execute, transpile\n",
    "from qiskit.providers.aer import QasmSimulator\n",
    "from qiskit.tools.monitor import job_monitor\n",
    "from qiskit.circuit import Parameter\n",
    "\n",
    "# Import state tomography modules\n",
    "from qiskit.ignis.verification.tomography import state_tomography_circuits, StateTomographyFitter\n",
    "from qiskit.quantum_info import state_fidelity\n",
    "\n",
    "# Qiskit Pulse imports\n",
    "import qiskit.pulse\n",
    "from qiskit import pulse\n",
    "from qiskit.pulse import library\n",
    "\n",
    "from qiskit import *\n",
    "from qiskit.pulse import Play, Schedule, DriveChannel, ControlChannel, Waveform, ShiftPhase\n",
    "from qiskit.pulse.library import drag, GaussianSquare, Drag\n",
    "\n",
    "from scipy.special import erf\n",
    "\n",
    "# suppress warnings\n",
    "import warnings\n",
    "warnings.filterwarnings('ignore')"
   ]
  },
  {
   "cell_type": "code",
   "execution_count": null,
   "metadata": {
    "colab": {
     "base_uri": "https://localhost:8080/"
    },
    "id": "TX_0NFtMF5fX",
    "outputId": "4a1dbc63-7c58-4fdd-a768-fb54e5c3c439"
   },
   "outputs": [
    {
     "data": {
      "text/plain": [
       "<AccountProvider for IBMQ(hub='ibm-q', group='open', project='main')>"
      ]
     },
     "execution_count": 17,
     "metadata": {},
     "output_type": "execute_result"
    }
   ],
   "source": [
    "# load IBMQ Account data\n",
    "IBMQ.save_account('',overwrite=True )\n",
    "IBMQ.load_account()\n",
    "\n"
   ]
  },
  {
   "cell_type": "code",
   "execution_count": null,
   "metadata": {
    "id": "HoVOPxISGpKh"
   },
   "outputs": [],
   "source": [
    "\n",
    "provider = IBMQ.get_provider(hub='ibm-q-community', group='ibmquantumawards', project='open-science-22')\n",
    "\n",
    "backend  = provider.get_backend('ibmq_jakarta')\n",
    "\n",
    "properties = backend.properties()"
   ]
  },
  {
   "cell_type": "code",
   "execution_count": null,
   "metadata": {
    "id": "Og8g4UsrG3Wk"
   },
   "outputs": [],
   "source": [
    "# Parameterize variable t to be evaluated at t=pi later\n",
    "t = Parameter('t')"
   ]
  },
  {
   "cell_type": "code",
   "execution_count": null,
   "metadata": {
    "colab": {
     "base_uri": "https://localhost:8080/"
    },
    "id": "B12zbl5Ag8fW",
    "outputId": "6079ee8c-776b-494d-9f52-3bab7be235e1"
   },
   "outputs": [
    {
     "name": "stdout",
     "output_type": "stream",
     "text": [
      "Sampling time: 0.2222222222222222 ns\n"
     ]
    }
   ],
   "source": [
    "backend_config = backend.configuration()\n",
    "ham_params = backend_config.hamiltonian['vars']\n",
    "dt = backend_config.dt\n",
    "print(f\"Sampling time: {dt*1e9} ns\")"
   ]
  },
  {
   "cell_type": "code",
   "execution_count": null,
   "metadata": {
    "colab": {
     "base_uri": "https://localhost:8080/"
    },
    "id": "N9jNP937g6Wa",
    "outputId": "8e2e13df-fca8-496e-95e7-255f1e1d8acc"
   },
   "outputs": [
    {
     "data": {
      "text/plain": [
       "['cx', 'id', 'measure', 'rz', 'sx', 'u1', 'u2', 'u3', 'x']"
      ]
     },
     "execution_count": 21,
     "metadata": {},
     "output_type": "execute_result"
    }
   ],
   "source": [
    "backend_defaults = backend.defaults()\n",
    "inst_sched_map = backend_defaults.instruction_schedule_map \n",
    "inst_sched_map.instructions"
   ]
  },
  {
   "cell_type": "code",
   "execution_count": null,
   "metadata": {
    "id": "x4RAOt8ogzZs"
   },
   "outputs": [],
   "source": [
    "# Use optimized pulse\n",
    "\n",
    "# The PassManager helps decide how a circuit should be optimized\n",
    "# (https://qiskit.org/documentation/tutorials/circuits_advanced/04_transpiler_passes_and_passmanager.html)\n",
    "from qiskit.transpiler import PassManager\n",
    "\n",
    "# This function will pull pulse-level calibration values to build RZX gates and tell the PassManager to leave RZX gates alone\n",
    "from qiskit.transpiler.passes import RZXCalibrationBuilderNoEcho"
   ]
  },
  {
   "cell_type": "code",
   "execution_count": null,
   "metadata": {
    "id": "hCE5ksxIMRi7"
   },
   "outputs": [],
   "source": [
    "import h5py\n",
    "f_ansatz= h5py.File(ansatz_file, 'r') # open h5 file"
   ]
  },
  {
   "cell_type": "markdown",
   "metadata": {},
   "source": [
    "## Rzz gate using qiskit's non echo Rzx"
   ]
  },
  {
   "cell_type": "code",
   "execution_count": null,
   "metadata": {
    "id": "6DjC5_XBODDk"
   },
   "outputs": [],
   "source": [
    "def rzz_qiskit(qc,angle,q1,q0): # Using non-echo Rzx gate to create Rzz gate \n",
    "    qc.ry(-np.pi/2,q0)\n",
    "    qc.rzx(angle/2, q1, q0) # non-echo Rzx gate\n",
    "    qc.x(q1)             # X \\pi echo pulse\n",
    "    qc.rzx(-angle/2, q1, q0) # non-echo Rzx gate\n",
    "    qc.x(q1)\n",
    "    qc.ry(np.pi/2,q0)"
   ]
  },
  {
   "cell_type": "code",
   "execution_count": null,
   "metadata": {
    "colab": {
     "base_uri": "https://localhost:8080/",
     "height": 778
    },
    "id": "A6NDcwFMKW-U",
    "outputId": "49ce6430-b6d0-4fb3-8af5-0df43d398090"
   },
   "outputs": [
    {
     "data": {
      "image/png": "[encoded data removed]",
      "text/plain": [
       "<Figure size 1604.58x1047.48 with 1 Axes>"
      ]
     },
     "execution_count": 26,
     "metadata": {},
     "output_type": "execute_result"
    }
   ],
   "source": [
    "target_time = np.pi \n",
    "\n",
    "target_t=np.pi # the evolution time we want to get \n",
    "f = open(params_file, \"r\") # open the variational parameters file\n",
    "num_string = f.readline()\n",
    "pi_closer = 0\n",
    "del_num = 1000\n",
    "while num_string != '': # find out variational parameters when t=target_t\n",
    "    num = num_string.split()\n",
    "    time = float(num[0])\n",
    "    if min(del_num,np.abs(time-target_t))==del_num:\n",
    "        pass\n",
    "    else:\n",
    "        del_num=np.abs(time-target_t)\n",
    "        pi_closer=time\n",
    "        params=num[1:]\n",
    "    num_string = f.readline()\n",
    "\n",
    "\n",
    "# Initialize quantum circuit for 3 qubits\n",
    "qr = QuantumRegister(7)\n",
    "qc = QuantumCircuit(qr)\n",
    "\n",
    "# Prepare initial state (remember we are only evolving 3 of the 7 qubits on jakarta qubits (q_5, q_3, q_1) corresponding to the state |110>)\n",
    "qc.x([3,5])  # DO NOT MODIFY (|q_5,q_3,q_1> = |110>)\n",
    "\n",
    "qlst=[1,3,5] # Use 1,3,5 circuits\n",
    "\n",
    "q0=qlst[0]\n",
    "\n",
    "q1=qlst[1]\n",
    "\n",
    "q2=qlst[2]\n",
    "\n",
    "\n",
    "for i,op in enumerate(ans._ansatz[1]):\n",
    "    if op[1]==3:\n",
    "      # op[1]=3: means Rzz gate\n",
    "        rzz_qiskit(qc,float(params[i]),qlst[op[0]],qlst[op[2]])\n",
    "    elif op[1]==2:\n",
    "      # op[1]=2: means Ryy gate\n",
    "        qc.rx(np.pi/2,[qlst[op[0]],qlst[op[2]]])\n",
    "        rzz_qiskit(qc,float(params[i]),qlst[op[0]],qlst[op[2]])\n",
    "        qc.rx(-np.pi/2,[qlst[op[0]],qlst[op[2]]])\n",
    "    elif op[1]==1:\n",
    "      # # op[1]=1: means Rxx gate\n",
    "        qc.ry(np.pi/2,[qlst[op[0]],qlst[op[2]]])\n",
    "        rzz_qiskit(qc,float(params[i]),qlst[op[0]],qlst[op[2]])\n",
    "        qc.ry(-np.pi/2,[qlst[op[0]],qlst[op[2]]])\n",
    "\n",
    "\n",
    "# Generate state tomography circuits to evaluate fidelity of simulation\n",
    "st_qcs = state_tomography_circuits(qc, [qr[q0], qr[q1], qr[q2]])\n",
    "\n",
    "pm = PassManager([RZXCalibrationBuilderNoEcho(backend)])\n",
    "st_qcs_pulse_efficient = pm.run(st_qcs)\n",
    "st_qcs_pulse_efficient[-1].draw('mpl') # optimized the pulse sequence\n"
   ]
  },
  {
   "cell_type": "markdown",
   "metadata": {},
   "source": [
    "## Dynamical decoupling"
   ]
  },
  {
   "cell_type": "code",
   "execution_count": null,
   "metadata": {
    "id": "OPtgHM-3efca"
   },
   "outputs": [],
   "source": [
    "def DD_circuit_qiskit_pulse(circuit, backend, qubits_list, initial_layout = None, name=False):\n",
    "    \"\"\"\n",
    "\n",
    "    Dynamical decoupling X_\\pi-X_-\\pi \n",
    "\n",
    "\n",
    "    circuit: qiskit circuit\n",
    "\n",
    "    backend: ibm device\n",
    "\n",
    "    qubits_list: the qubit list used to run \n",
    "\n",
    "    name: 'the circuit name'\n",
    "\n",
    "    \"\"\"\n",
    "\n",
    "    if initial_layout:\n",
    "\n",
    "        circuit = transpile(circuit, backend, scheduling_method='asap',initial_layout =init_layout)\n",
    "\n",
    "    else:\n",
    "\n",
    "        circuit = transpile(circuit, backend, scheduling_method='asap')\n",
    "\n",
    "    if name:\n",
    "\n",
    "        DD_cir = QuantumCircuit(*circuit.qregs,*circuit.cregs,name=circuit.name)\n",
    "\n",
    "    else:\n",
    "\n",
    "        DD_cir = QuantumCircuit(*circuit.qregs,*circuit.cregs)\n",
    "\n",
    "    for operation in circuit[:]:\n",
    "\n",
    "        if type(operation[0])==qiskit.circuit.delay.Delay:\n",
    "\n",
    "            if  operation[0].duration >= 400:\n",
    "\n",
    "                q_index = operation[1][0].index\n",
    "\n",
    "                if q_index in qubits_list:\n",
    "\n",
    "                    t=(operation[0].duration-320)//4 \n",
    "\n",
    "                    t = math.ceil((t)/16)*16 # must be the multiple of 16\n",
    "\n",
    "                    DD_cir.delay(t,[q_index],'dt')\n",
    "\n",
    "                    DD_cir.x(q_index) # X_\\pi\n",
    "\n",
    "                    DD_cir.delay(2*t,[q_index],'dt')\n",
    "\n",
    "                    DD_cir.z(q_index) # Z gate won't contribute time in ibm device\n",
    "\n",
    "                    DD_cir.x(q_index) # X_-\\pi\n",
    "\n",
    "                    DD_cir.z(q_index) # Z gate won't contribute time in ibm device\n",
    "\n",
    "                else:\n",
    "\n",
    "                    DD_cir.data.append(operation)\n",
    "\n",
    "            else:\n",
    "\n",
    "                DD_cir.data.append(operation)\n",
    "\n",
    "        else:\n",
    "\n",
    "            DD_cir.data.append(operation)\n",
    "\n",
    "    pm = PassManager([RZXCalibrationBuilderNoEcho(backend)])\n",
    "    DD_cir_pulse_efficient = pm.run(DD_cir)\n",
    "\n",
    "    return DD_cir_pulse_efficient"
   ]
  },
  {
   "cell_type": "code",
   "execution_count": null,
   "metadata": {
    "id": "goiueFxAByky"
   },
   "outputs": [],
   "source": [
    "from qiskit import *"
   ]
  },
  {
   "cell_type": "code",
   "execution_count": null,
   "metadata": {
    "id": "AHQvPGm0y8zr"
   },
   "outputs": [],
   "source": [
    "from qiskit.ignis.mitigation.measurement import complete_meas_cal, CompleteMeasFitter"
   ]
  },
  {
   "cell_type": "code",
   "execution_count": null,
   "metadata": {
    "id": "f1iYv4SOJU90"
   },
   "outputs": [],
   "source": [
    "qubits_list = [1,3,5]\n",
    "\n",
    "cirs=[]\n",
    "\n",
    "# create the circuits w/ dynamical decoupling.\n",
    "for i in range(len(st_qcs)):\n",
    "\n",
    "    cir_pulse_efficient=DD_circuit_qiskit_pulse(st_qcs_pulse_efficient[i], backend, qubits_list, name=True )\n",
    "\n",
    "    cirs.append(cir_pulse_efficient)"
   ]
  },
  {
   "cell_type": "markdown",
   "metadata": {},
   "source": [
    "## Readout Error Mitigation "
   ]
  },
  {
   "cell_type": "code",
   "execution_count": null,
   "metadata": {
    "id": "uBHm38OCCOb6"
   },
   "outputs": [],
   "source": [
    "# Using complete readout error mitigation\n",
    "qubits_list = [q0,q1,q2]\n",
    "\n",
    "shots=8192\n",
    "\n",
    "qr = QuantumRegister(len(qubits_list),'q')\n",
    "\n",
    "meas_calibs, state_labels = complete_meas_cal(qr=qr, circlabel='mcal')"
   ]
  },
  {
   "cell_type": "code",
   "execution_count": null,
   "metadata": {
    "colab": {
     "base_uri": "https://localhost:8080/"
    },
    "id": "S_Q3ZNRwzI6m",
    "outputId": "fb5ebfc1-ceae-4a3e-d379-67533266f227"
   },
   "outputs": [
    {
     "name": "stdout",
     "output_type": "stream",
     "text": [
      "Job ID 624cf6f6182d0264174c1d8b\n"
     ]
    }
   ],
   "source": [
    "# Execute the readout error mitigation circuits first\n",
    "init_layout = {}\n",
    "\n",
    "for i,j in enumerate(qubits_list):\n",
    "\n",
    "    init_layout[qr[i]] = j\n",
    "\n",
    "cal_results = execute(meas_calibs, backend, shots=shots, initial_layout=init_layout)\n",
    "\n",
    "print('Job ID', cal_results.job_id())"
   ]
  },
  {
   "cell_type": "code",
   "execution_count": null,
   "metadata": {
    "colab": {
     "base_uri": "https://localhost:8080/"
    },
    "id": "STuvLeLjKbEu",
    "outputId": "c33bd073-bb95-40c2-d353-0b0161b4aee7"
   },
   "outputs": [
    {
     "name": "stdout",
     "output_type": "stream",
     "text": [
      "Job ID 624cf6facaa265439af18d92\n",
      "Job ID 624cf6fd5ab79bc22af94560\n",
      "Job ID 624cf70073968c7dec07a6b6\n",
      "Job ID 624cf70273968c4e5707a6b7\n",
      "Job ID 624cf706182d02762a4c1d8d\n",
      "Job ID 624cf709d72033ee1567cc01\n",
      "Job ID 624cf70ccaa2658fb7f18d94\n",
      "Job ID 624cf70f5ab79b306af94562\n"
     ]
    }
   ],
   "source": [
    "shots = 8192\n",
    "reps =8\n",
    "\n",
    "backend = backend \n",
    "\n",
    "jobs = []\n",
    "for _ in range(reps):\n",
    "    # execute state tomography circuits\n",
    "    job = execute(cirs, backend, shots=shots)\n",
    "    \n",
    "    print('Job ID', job.job_id())\n",
    "    jobs.append(job)"
   ]
  },
  {
   "cell_type": "code",
   "execution_count": null,
   "metadata": {
    "colab": {
     "background_save": true,
     "base_uri": "https://localhost:8080/"
    },
    "id": "WuQa2RYTKbxx",
    "outputId": "4c251beb-ac70-4b3d-f326-1069f521760b"
   },
   "outputs": [
    {
     "name": "stdout",
     "output_type": "stream",
     "text": [
      "Job Status: job is queued (536)"
     ]
    }
   ],
   "source": [
    "for job in jobs:\n",
    "    job_monitor(job)\n",
    "    try:\n",
    "        if job.error_message() is not None:\n",
    "            print(job.error_message())\n",
    "    except:\n",
    "        pass"
   ]
  },
  {
   "cell_type": "markdown",
   "metadata": {
    "id": "isHmL4Z3rF-8"
   },
   "source": [
    "# Job Retrieve"
   ]
  },
  {
   "cell_type": "code",
   "execution_count": null,
   "metadata": {
    "id": "SJAKkHK7B0FZ"
   },
   "outputs": [],
   "source": [
    "# The history result\n",
    "\n",
    "\n",
    "# Readout error mitigation result\n",
    "cal_results=backend.retrieve_job('624cf6f6182d0264174c1d8b')\n",
    "\n",
    "# State tomography result\n",
    "ids=['624cf6facaa265439af18d92','624cf6fd5ab79bc22af94560','624cf70073968c7dec07a6b6','624cf70273968c4e5707a6b7',\n",
    "     '624cf706182d02762a4c1d8d','624cf709d72033ee1567cc01','624cf70ccaa2658fb7f18d94','624cf70f5ab79b306af94562']\n",
    "jobs=[]\n",
    "for id in ids:\n",
    "    jobs.append(backend.retrieve_job(id))"
   ]
  },
  {
   "cell_type": "markdown",
   "metadata": {},
   "source": [
    "## Results"
   ]
  },
  {
   "cell_type": "code",
   "execution_count": null,
   "metadata": {
    "id": "tM0VW2fW7sGI"
   },
   "outputs": [],
   "source": [
    "# get readout error filter\n",
    "meas_fitter = CompleteMeasFitter(cal_results.result(), state_labels)\n",
    "\n",
    "meas_filter = meas_fitter.filter"
   ]
  },
  {
   "cell_type": "code",
   "execution_count": null,
   "metadata": {
    "colab": {
     "base_uri": "https://localhost:8080/"
    },
    "id": "ThHkBs_FKez-",
    "outputId": "894ff09c-7eb2-4658-cfb1-cb913e244860"
   },
   "outputs": [
    {
     "name": "stdout",
     "output_type": "stream",
     "text": [
      "state tomography fidelity = 0.9342 ± 0.0025\n"
     ]
    }
   ],
   "source": [
    "# Compute the state tomography based on the st_qcs quantum circuits and the results from those ciricuits\n",
    "def state_tomo(result, st_qcs): #, time):\n",
    "    # The expected final state; necessary to determine state tomography fidelity\n",
    "    target_state = (One^One^Zero).to_matrix()  # DO NOT MODIFY (|q_5,q_3,q_1> = |110>)\n",
    "    # Fit state tomography results\n",
    "    initial_state = One^One^Zero\n",
    "\n",
    "    #target_state = (U_heis3(float(time)) @ initial_state).eval().to_matrix()\n",
    "\n",
    "    mit_result = meas_fitter.filter.apply(result)\n",
    "\n",
    "    tomo_fitter = StateTomographyFitter(mit_result, st_qcs)\n",
    "\n",
    "    rho_fit = tomo_fitter.fit(method='lstsq')\n",
    "    # Compute fidelity\n",
    "    fid = state_fidelity(rho_fit, target_state)\n",
    "    return fid\n",
    "\n",
    "# Compute tomography fidelities for each repetition\n",
    "\n",
    "fids = []\n",
    "\n",
    "for job in jobs:\n",
    "    fid = state_tomo(job.result(), st_qcs)\n",
    "    fids.append(fid)\n",
    "    \n",
    "print('state tomography fidelity = {:.4f} \\u00B1 {:.4f}'.format(np.mean(fids), np.std(fids))) "
   ]
  },
  {
   "cell_type": "code",
   "execution_count": null,
   "metadata": {
    "colab": {
     "base_uri": "https://localhost:8080/",
     "height": 337
    },
    "id": "Fw7DB2YiKilC",
    "outputId": "3e847b89-a5d6-48c3-d9bd-104c6440dfda"
   },
   "outputs": [
    {
     "data": {
      "text/html": [
       "<h3>Version Information</h3><table><tr><th>Qiskit Software</th><th>Version</th></tr><tr><td><code>qiskit-terra</code></td><td>0.20.0</td></tr><tr><td><code>qiskit-aer</code></td><td>0.10.4</td></tr><tr><td><code>qiskit-ignis</code></td><td>0.7.0</td></tr><tr><td><code>qiskit-ibmq-provider</code></td><td>0.19.0</td></tr><tr><th>System information</th></tr><tr><td>Python version</td><td>3.7.13</td></tr><tr><td>Python compiler</td><td>GCC 7.5.0</td></tr><tr><td>Python build</td><td>default, Mar 16 2022 17:37:17</td></tr><tr><td>OS</td><td>Linux</td></tr><tr><td>CPUs</td><td>1</td></tr><tr><td>Memory (Gb)</td><td>12.686653137207031</td></tr><tr><td colspan='2'>Wed Apr 13 02:26:23 2022 UTC</td></tr></table>"
      ],
      "text/plain": [
       "<IPython.core.display.HTML object>"
      ]
     },
     "metadata": {},
     "output_type": "display_data"
    }
   ],
   "source": [
    "import qiskit.tools.jupyter\n",
    "%qiskit_version_table"
   ]
  },
  {
   "cell_type": "code",
   "execution_count": null,
   "metadata": {
    "id": "NHChsUfqGoht"
   },
   "outputs": [],
   "source": []
  }
 ],
 "metadata": {
  "colab": {
   "name": "Mini_Heisenberg_model_variational_gate_4_93._U_piipynb",
   "provenance": []
  },
  "kernelspec": {
   "display_name": "Python 3",
   "language": "python",
   "name": "python3"
  },
  "language_info": {
   "codemirror_mode": {
    "name": "ipython",
    "version": 3
   },
   "file_extension": ".py",
   "mimetype": "text/x-python",
   "name": "python",
   "nbconvert_exporter": "python",
   "pygments_lexer": "ipython3",
   "version": "3.9.4"
  }
 },
 "nbformat": 4,
 "nbformat_minor": 1
}
