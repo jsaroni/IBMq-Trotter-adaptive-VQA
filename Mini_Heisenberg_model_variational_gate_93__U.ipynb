{
  "cells": [
    {
      "cell_type": "code",
      "execution_count": null,
      "metadata": {
        "colab": {
          "base_uri": "https://localhost:8080/"
        },
        "id": "-Y4JeBTLEia6",
        "outputId": "84e8158e-07e3-42d6-a362-e8a411bf0cdb"
      },
      "outputs": [
        {
          "output_type": "stream",
          "name": "stdout",
          "text": [
            "Collecting qiskit\n",
            "  Downloading qiskit-0.36.0.tar.gz (13 kB)\n",
            "Collecting qiskit-terra==0.20.0\n",
            "  Downloading qiskit_terra-0.20.0-cp37-cp37m-manylinux_2_17_x86_64.manylinux2014_x86_64.whl (6.5 MB)\n",
            "\u001b[K     |████████████████████████████████| 6.5 MB 4.1 MB/s \n",
            "\u001b[?25hCollecting qiskit-aer==0.10.4\n",
            "  Downloading qiskit_aer-0.10.4-cp37-cp37m-manylinux_2_12_x86_64.manylinux2010_x86_64.whl (18.0 MB)\n",
            "\u001b[K     |████████████████████████████████| 18.0 MB 225 kB/s \n",
            "\u001b[?25hCollecting qiskit-ibmq-provider==0.19.0\n",
            "  Downloading qiskit_ibmq_provider-0.19.0-py3-none-any.whl (240 kB)\n",
            "\u001b[K     |████████████████████████████████| 240 kB 40.9 MB/s \n",
            "\u001b[?25hCollecting qiskit-ignis==0.7.0\n",
            "  Downloading qiskit_ignis-0.7.0-py3-none-any.whl (200 kB)\n",
            "\u001b[K     |████████████████████████████████| 200 kB 45.7 MB/s \n",
            "\u001b[?25hRequirement already satisfied: scipy>=1.0 in /usr/local/lib/python3.7/dist-packages (from qiskit-aer==0.10.4->qiskit) (1.4.1)\n",
            "Requirement already satisfied: numpy>=1.16.3 in /usr/local/lib/python3.7/dist-packages (from qiskit-aer==0.10.4->qiskit) (1.21.5)\n",
            "Collecting websockets>=10.0\n",
            "  Downloading websockets-10.2-cp37-cp37m-manylinux_2_5_x86_64.manylinux1_x86_64.manylinux_2_12_x86_64.manylinux2010_x86_64.whl (111 kB)\n",
            "\u001b[K     |████████████████████████████████| 111 kB 45.0 MB/s \n",
            "\u001b[?25hRequirement already satisfied: requests>=2.19 in /usr/local/lib/python3.7/dist-packages (from qiskit-ibmq-provider==0.19.0->qiskit) (2.23.0)\n",
            "Requirement already satisfied: urllib3>=1.21.1 in /usr/local/lib/python3.7/dist-packages (from qiskit-ibmq-provider==0.19.0->qiskit) (1.24.3)\n",
            "Collecting websocket-client>=1.0.1\n",
            "  Downloading websocket_client-1.3.2-py3-none-any.whl (54 kB)\n",
            "\u001b[K     |████████████████████████████████| 54 kB 2.0 MB/s \n",
            "\u001b[?25hCollecting requests-ntlm>=1.1.0\n",
            "  Downloading requests_ntlm-1.1.0-py2.py3-none-any.whl (5.7 kB)\n",
            "Requirement already satisfied: python-dateutil>=2.8.0 in /usr/local/lib/python3.7/dist-packages (from qiskit-ibmq-provider==0.19.0->qiskit) (2.8.2)\n",
            "Requirement already satisfied: setuptools>=40.1.0 in /usr/local/lib/python3.7/dist-packages (from qiskit-ignis==0.7.0->qiskit) (57.4.0)\n",
            "Collecting retworkx>=0.8.0\n",
            "  Downloading retworkx-0.11.0-cp37-cp37m-manylinux_2_5_x86_64.manylinux1_x86_64.manylinux_2_12_x86_64.manylinux2010_x86_64.whl (1.6 MB)\n",
            "\u001b[K     |████████████████████████████████| 1.6 MB 14.5 MB/s \n",
            "\u001b[?25hCollecting scipy>=1.0\n",
            "  Downloading scipy-1.7.3-cp37-cp37m-manylinux_2_12_x86_64.manylinux2010_x86_64.whl (38.1 MB)\n",
            "\u001b[K     |████████████████████████████████| 38.1 MB 1.4 MB/s \n",
            "\u001b[?25hCollecting python-constraint>=1.4\n",
            "  Downloading python-constraint-1.4.0.tar.bz2 (18 kB)\n",
            "Collecting stevedore>=3.0.0\n",
            "  Downloading stevedore-3.5.0-py3-none-any.whl (49 kB)\n",
            "\u001b[K     |████████████████████████████████| 49 kB 5.3 MB/s \n",
            "\u001b[?25hRequirement already satisfied: psutil>=5 in /usr/local/lib/python3.7/dist-packages (from qiskit-terra==0.20.0->qiskit) (5.4.8)\n",
            "Requirement already satisfied: dill>=0.3 in /usr/local/lib/python3.7/dist-packages (from qiskit-terra==0.20.0->qiskit) (0.3.4)\n",
            "Collecting tweedledum<2.0,>=1.1\n",
            "  Downloading tweedledum-1.1.1-cp37-cp37m-manylinux_2_12_x86_64.manylinux2010_x86_64.whl (943 kB)\n",
            "\u001b[K     |████████████████████████████████| 943 kB 45.2 MB/s \n",
            "\u001b[?25hRequirement already satisfied: sympy>=1.3 in /usr/local/lib/python3.7/dist-packages (from qiskit-terra==0.20.0->qiskit) (1.7.1)\n",
            "Collecting symengine>=0.9\n",
            "  Downloading symengine-0.9.2-cp37-cp37m-manylinux2010_x86_64.whl (37.5 MB)\n",
            "\u001b[K     |████████████████████████████████| 37.5 MB 1.2 MB/s \n",
            "\u001b[?25hCollecting ply>=3.10\n",
            "  Downloading ply-3.11-py2.py3-none-any.whl (49 kB)\n",
            "\u001b[K     |████████████████████████████████| 49 kB 6.0 MB/s \n",
            "\u001b[?25hRequirement already satisfied: six>=1.5 in /usr/local/lib/python3.7/dist-packages (from python-dateutil>=2.8.0->qiskit-ibmq-provider==0.19.0->qiskit) (1.15.0)\n",
            "Requirement already satisfied: certifi>=2017.4.17 in /usr/local/lib/python3.7/dist-packages (from requests>=2.19->qiskit-ibmq-provider==0.19.0->qiskit) (2021.10.8)\n",
            "Requirement already satisfied: chardet<4,>=3.0.2 in /usr/local/lib/python3.7/dist-packages (from requests>=2.19->qiskit-ibmq-provider==0.19.0->qiskit) (3.0.4)\n",
            "Requirement already satisfied: idna<3,>=2.5 in /usr/local/lib/python3.7/dist-packages (from requests>=2.19->qiskit-ibmq-provider==0.19.0->qiskit) (2.10)\n",
            "Collecting ntlm-auth>=1.0.2\n",
            "  Downloading ntlm_auth-1.5.0-py2.py3-none-any.whl (29 kB)\n",
            "Collecting cryptography>=1.3\n",
            "  Downloading cryptography-36.0.2-cp36-abi3-manylinux_2_24_x86_64.whl (3.6 MB)\n",
            "\u001b[K     |████████████████████████████████| 3.6 MB 37.0 MB/s \n",
            "\u001b[?25hRequirement already satisfied: cffi>=1.12 in /usr/local/lib/python3.7/dist-packages (from cryptography>=1.3->requests-ntlm>=1.1.0->qiskit-ibmq-provider==0.19.0->qiskit) (1.15.0)\n",
            "Requirement already satisfied: pycparser in /usr/local/lib/python3.7/dist-packages (from cffi>=1.12->cryptography>=1.3->requests-ntlm>=1.1.0->qiskit-ibmq-provider==0.19.0->qiskit) (2.21)\n",
            "Requirement already satisfied: importlib-metadata>=1.7.0 in /usr/local/lib/python3.7/dist-packages (from stevedore>=3.0.0->qiskit-terra==0.20.0->qiskit) (4.11.3)\n",
            "Collecting pbr!=2.1.0,>=2.0.0\n",
            "  Downloading pbr-5.8.1-py2.py3-none-any.whl (113 kB)\n",
            "\u001b[K     |████████████████████████████████| 113 kB 36.0 MB/s \n",
            "\u001b[?25hRequirement already satisfied: typing-extensions>=3.6.4 in /usr/local/lib/python3.7/dist-packages (from importlib-metadata>=1.7.0->stevedore>=3.0.0->qiskit-terra==0.20.0->qiskit) (3.10.0.2)\n",
            "Requirement already satisfied: zipp>=0.5 in /usr/local/lib/python3.7/dist-packages (from importlib-metadata>=1.7.0->stevedore>=3.0.0->qiskit-terra==0.20.0->qiskit) (3.7.0)\n",
            "Requirement already satisfied: mpmath>=0.19 in /usr/local/lib/python3.7/dist-packages (from sympy>=1.3->qiskit-terra==0.20.0->qiskit) (1.2.1)\n",
            "Building wheels for collected packages: qiskit, python-constraint\n",
            "  Building wheel for qiskit (setup.py) ... \u001b[?25l\u001b[?25hdone\n",
            "  Created wheel for qiskit: filename=qiskit-0.36.0-py3-none-any.whl size=11861 sha256=9ca4fa59525f22e16637a56b9ce034da98778e9a6a818a4b78a127384d4e08d4\n",
            "  Stored in directory: /root/.cache/pip/wheels/c3/25/bc/bb06f0f4587fa7253f761a778580d546f13e031b90fc929bb3\n",
            "  Building wheel for python-constraint (setup.py) ... \u001b[?25l\u001b[?25hdone\n",
            "  Created wheel for python-constraint: filename=python_constraint-1.4.0-py2.py3-none-any.whl size=24081 sha256=c4c3da009929bcaca92d78475d31fb24e71e2f3bd9d97ce499f3c7268e4b3626\n",
            "  Stored in directory: /root/.cache/pip/wheels/07/27/db/1222c80eb1e431f3d2199c12569cb1cac60f562a451fe30479\n",
            "Successfully built qiskit python-constraint\n",
            "Installing collected packages: pbr, tweedledum, symengine, stevedore, scipy, retworkx, python-constraint, ply, ntlm-auth, cryptography, websockets, websocket-client, requests-ntlm, qiskit-terra, qiskit-ignis, qiskit-ibmq-provider, qiskit-aer, qiskit\n",
            "  Attempting uninstall: scipy\n",
            "    Found existing installation: scipy 1.4.1\n",
            "    Uninstalling scipy-1.4.1:\n",
            "      Successfully uninstalled scipy-1.4.1\n",
            "\u001b[31mERROR: pip's dependency resolver does not currently take into account all the packages that are installed. This behaviour is the source of the following dependency conflicts.\n",
            "albumentations 0.1.12 requires imgaug<0.2.7,>=0.2.5, but you have imgaug 0.2.9 which is incompatible.\u001b[0m\n",
            "Successfully installed cryptography-36.0.2 ntlm-auth-1.5.0 pbr-5.8.1 ply-3.11 python-constraint-1.4.0 qiskit-0.36.0 qiskit-aer-0.10.4 qiskit-ibmq-provider-0.19.0 qiskit-ignis-0.7.0 qiskit-terra-0.20.0 requests-ntlm-1.1.0 retworkx-0.11.0 scipy-1.7.3 stevedore-3.5.0 symengine-0.9.2 tweedledum-1.1.1 websocket-client-1.3.2 websockets-10.2\n",
            "Collecting pylatexenc\n",
            "  Downloading pylatexenc-2.10.tar.gz (162 kB)\n",
            "\u001b[K     |████████████████████████████████| 162 kB 5.0 MB/s \n",
            "\u001b[?25hBuilding wheels for collected packages: pylatexenc\n",
            "  Building wheel for pylatexenc (setup.py) ... \u001b[?25l\u001b[?25hdone\n",
            "  Created wheel for pylatexenc: filename=pylatexenc-2.10-py3-none-any.whl size=136835 sha256=53fdaf1cda2ced04bf327f8c4f3c9a784f7655fcb5492343079e3a1794ea657f\n",
            "  Stored in directory: /root/.cache/pip/wheels/f1/8a/f5/33ee79d4473eb201b519fa40f989b842e373237395a3421f52\n",
            "Successfully built pylatexenc\n",
            "Installing collected packages: pylatexenc\n",
            "Successfully installed pylatexenc-2.10\n"
          ]
        }
      ],
      "source": [
        "# install the package \n",
        "!pip install qiskit\n",
        "!pip install pylatexenc"
      ]
    },
    {
      "cell_type": "code",
      "execution_count": null,
      "metadata": {
        "colab": {
          "base_uri": "https://localhost:8080/"
        },
        "id": "aqU2cozuLKgZ",
        "outputId": "72ec1049-9590-4095-f0dd-1aa6fc8a7ea0"
      },
      "outputs": [
        {
          "output_type": "stream",
          "name": "stdout",
          "text": [
            "Requirement already satisfied: h5py in /usr/local/lib/python3.7/dist-packages (3.1.0)\n",
            "Requirement already satisfied: cached-property in /usr/local/lib/python3.7/dist-packages (from h5py) (1.5.2)\n",
            "Requirement already satisfied: numpy>=1.14.5 in /usr/local/lib/python3.7/dist-packages (from h5py) (1.21.5)\n"
          ]
        }
      ],
      "source": [
        "! pip install h5py"
      ]
    },
    {
      "cell_type": "code",
      "execution_count": null,
      "metadata": {
        "colab": {
          "base_uri": "https://localhost:8080/"
        },
        "id": "8jjw97LpJeay",
        "outputId": "ce195ed6-4da7-49c6-fdca-e48df63e2dc0"
      },
      "outputs": [
        {
          "output_type": "stream",
          "name": "stdout",
          "text": [
            "Mounted at /content/gdrive\n"
          ]
        }
      ],
      "source": [
        "from google.colab import drive\n",
        "drive.mount('/content/gdrive') # If you didn't save the parameter.dat and ansatz.h5 files on google drive, you don't need to run this cell"
      ]
    },
    {
      "cell_type": "code",
      "execution_count": null,
      "metadata": {
        "id": "RvmfaecrJyRu"
      },
      "outputs": [],
      "source": [
        "path='' # The path you save the parameter.dat and ansatz.h5 files. "
      ]
    },
    {
      "cell_type": "markdown",
      "metadata": {
        "id": "pDSQ10_AFB31"
      },
      "source": [
        "# 1 Introduction\n",
        "## 1-1 Quantum Simulation\n",
        "One of the leading uses for quantum computers will be to simulate quantum systems such as molecules or engineered materials. Actually executing a quantum simulation on a current quantum computer, however, can be difficult and error prone. Your objective for this Open Science Prize is to significantly improve the state-of-the-art for quantum simulation (details in Section 2).\n",
        "\n",
        "The quantum system you will simulate is a quantum spin-1/2 model, where each qubit represents a quantum spin-1/2 particle in a 1D chain. Quantum spin models have some amazing properties and uses. Computationally speaking, certain optimization problems can be mapped to spin models and hence minimized on a quantum computer. Physically speaking, spin models show a variety of quantum behavior such as large entangled states, quantum phases of matter, quantum many-body affects, and many other open questions in physics research.\n",
        "\n",
        "There are many different spin models, but we will focus on the $XXX$ Heisenberg spin model. Though it is not as well known as the transverse-field Ising model, the $XXX$ Heisenberg model is of practical and theoretical interest. It can also be difficult to simulate, which is where you come in.\n",
        "\n",
        "The notebook is organized as follows: 1) Section 1 (labeled 1-X) provides you with brief introductions to the $XXX$ Heisenberg model, time evolving a Hamiltonian, and decomposing a time evolution operator into gates for a quantum computer to execute. 2) Section 2 (labeled 2-X) outlines the specific requirements and boundaries associated with completing and competing in the Open Science Prize. Continuing from Section 1, the notebook showns an example solution."
      ]
    },
    {
      "cell_type": "code",
      "execution_count": null,
      "metadata": {
        "id": "XMnJNvGOEAEE"
      },
      "outputs": [],
      "source": [
        "import numpy as np\n",
        "import matplotlib.pyplot as plt\n",
        "plt.rcParams.update({'font.size': 16})  # enlarge matplotlib fonts\n",
        "\n",
        "import qiskit\n",
        "\n",
        "# Import qubit states Zero (|0>) and One (|1>), and Pauli operators (X, Y, Z)\n",
        "from qiskit.opflow import Zero, One, I, X, Y, Z\n",
        "import math\n",
        "# Suppress warnings\n",
        "import warnings\n",
        "warnings.filterwarnings('ignore')"
      ]
    },
    {
      "cell_type": "code",
      "execution_count": null,
      "metadata": {
        "id": "ssVgSm7BFumi"
      },
      "outputs": [],
      "source": [
        "# Returns the matrix representation of the XXX Heisenberg model for 3 spin-1/2 particles in a line\n",
        "def H_heis3():\n",
        "    # Interactions (I is the identity matrix; X, Y, and Z are Pauli matricies; ^ is a tensor product)\n",
        "    XXs = (I^X^X) + (X^X^I)\n",
        "    YYs = (I^Y^Y) + (Y^Y^I)\n",
        "    ZZs = (I^Z^Z) + (Z^Z^I)\n",
        "    \n",
        "    # Sum interactions\n",
        "    H = XXs + YYs + ZZs\n",
        "    \n",
        "    # Return Hamiltonian\n",
        "    return H"
      ]
    },
    {
      "cell_type": "code",
      "execution_count": null,
      "metadata": {
        "id": "uoMH4uJ1Ef9Z"
      },
      "outputs": [],
      "source": [
        "# Returns the matrix representation of U_heis3(t) for a given time t assuming an XXX Heisenberg Hamiltonian for 3 spins-1/2 particles in a line\n",
        "def U_heis3(t):\n",
        "    # Compute XXX Hamiltonian for 3 spins in a line\n",
        "    H = H_heis3()\n",
        "    \n",
        "    # Return the exponential of -i multipled by time t multipled by the 3 spin XXX Heisenberg Hamilonian \n",
        "    return (t * H).exp_i()"
      ]
    },
    {
      "cell_type": "code",
      "execution_count": null,
      "metadata": {
        "colab": {
          "base_uri": "https://localhost:8080/",
          "height": 312
        },
        "id": "4FSdWf6nFPZ_",
        "outputId": "29c9c9e7-2e7a-49fe-8b6e-dcafc771fb0a"
      },
      "outputs": [
        {
          "output_type": "display_data",
          "data": {
            "text/plain": [
              "<Figure size 432x288 with 1 Axes>"
            ],
            "image/png": "[encoded data removed]"
          },
          "metadata": {
            "needs_background": "light"
          }
        }
      ],
      "source": [
        "# Define array of time points\n",
        "ts = np.linspace(0, np.pi, 100)\n",
        "\n",
        "# Define initial state |110>\n",
        "initial_state = One^One^Zero\n",
        "\n",
        "\n",
        "# Compute probability of remaining in |110> state over the array of time points\n",
        " # ~initial_state gives the bra of the initial state (<110|)\n",
        " # @ is short hand for matrix multiplication\n",
        " # U_heis3(t) is the unitary time evolution at time t\n",
        " # t needs to be wrapped with float(t) to avoid a bug\n",
        " # (...).eval() returns the inner product <110|U_heis3(t)|110>\n",
        " #  np.abs(...)**2 is the modulus squared of the innner product which is the expectation value, or probability, of remaining in |110>\n",
        "probs_110 = [np.abs((~initial_state @ U_heis3(float(t)) @ initial_state).eval())**2 for t in ts]\n",
        "\n",
        "# Plot evolution of |110>\n",
        "plt.plot(ts, probs_110)\n",
        "plt.xlabel('time')\n",
        "plt.ylabel(r'probability of state $|110\\rangle$')\n",
        "plt.title(r'Evolution of state $|110\\rangle$ under $H_{Heis3}$')\n",
        "plt.grid()\n",
        "plt.show()"
      ]
    },
    {
      "cell_type": "code",
      "execution_count": null,
      "metadata": {
        "id": "rIUgPgWnFmaF"
      },
      "outputs": [],
      "source": [
        "# Importing standard Qiskit modules\n",
        "from qiskit import QuantumCircuit, QuantumRegister, IBMQ, execute, transpile\n",
        "from qiskit.providers.aer import QasmSimulator\n",
        "from qiskit.tools.monitor import job_monitor\n",
        "from qiskit.circuit import Parameter\n",
        "\n",
        "# Import state tomography modules\n",
        "from qiskit.ignis.verification.tomography import state_tomography_circuits, StateTomographyFitter\n",
        "from qiskit.quantum_info import state_fidelity\n",
        "\n",
        "# Qiskit Pulse imports\n",
        "import qiskit.pulse\n",
        "from qiskit import pulse\n",
        "from qiskit.pulse import library\n",
        "\n",
        "from qiskit import *\n",
        "from qiskit.pulse import Play, Schedule, DriveChannel, ControlChannel, Waveform, ShiftPhase\n",
        "from qiskit.pulse.library import drag, GaussianSquare, Drag\n",
        "\n",
        "from scipy.special import erf\n",
        "\n",
        "# suppress warnings\n",
        "import warnings\n",
        "warnings.filterwarnings('ignore')"
      ]
    },
    {
      "cell_type": "code",
      "execution_count": null,
      "metadata": {
        "colab": {
          "base_uri": "https://localhost:8080/"
        },
        "id": "TX_0NFtMF5fX",
        "outputId": "4a1dbc63-7c58-4fdd-a768-fb54e5c3c439"
      },
      "outputs": [
        {
          "output_type": "execute_result",
          "data": {
            "text/plain": [
              "<AccountProvider for IBMQ(hub='ibm-q', group='open', project='main')>"
            ]
          },
          "metadata": {},
          "execution_count": 17
        }
      ],
      "source": [
        "# load IBMQ Account data\n",
        "IBMQ.save_account('',overwrite=True )\n",
        "IBMQ.load_account()\n",
        "\n"
      ]
    },
    {
      "cell_type": "code",
      "execution_count": null,
      "metadata": {
        "id": "HoVOPxISGpKh"
      },
      "outputs": [],
      "source": [
        "\n",
        "provider = IBMQ.get_provider(hub='ibm-q-community', group='ibmquantumawards', project='open-science-22')\n",
        "\n",
        "backend  = provider.get_backend('ibmq_jakarta')\n",
        "\n",
        "properties = backend.properties()"
      ]
    },
    {
      "cell_type": "code",
      "execution_count": null,
      "metadata": {
        "id": "Og8g4UsrG3Wk"
      },
      "outputs": [],
      "source": [
        "# Parameterize variable t to be evaluated at t=pi later\n",
        "t = Parameter('t')"
      ]
    },
    {
      "cell_type": "code",
      "execution_count": null,
      "metadata": {
        "colab": {
          "base_uri": "https://localhost:8080/"
        },
        "id": "B12zbl5Ag8fW",
        "outputId": "6079ee8c-776b-494d-9f52-3bab7be235e1"
      },
      "outputs": [
        {
          "output_type": "stream",
          "name": "stdout",
          "text": [
            "Sampling time: 0.2222222222222222 ns\n"
          ]
        }
      ],
      "source": [
        "backend_config = backend.configuration()\n",
        "ham_params = backend_config.hamiltonian['vars']\n",
        "dt = backend_config.dt\n",
        "print(f\"Sampling time: {dt*1e9} ns\")"
      ]
    },
    {
      "cell_type": "code",
      "execution_count": null,
      "metadata": {
        "colab": {
          "base_uri": "https://localhost:8080/"
        },
        "id": "N9jNP937g6Wa",
        "outputId": "8e2e13df-fca8-496e-95e7-255f1e1d8acc"
      },
      "outputs": [
        {
          "output_type": "execute_result",
          "data": {
            "text/plain": [
              "['cx', 'id', 'measure', 'rz', 'sx', 'u1', 'u2', 'u3', 'x']"
            ]
          },
          "metadata": {},
          "execution_count": 21
        }
      ],
      "source": [
        "backend_defaults = backend.defaults()\n",
        "inst_sched_map = backend_defaults.instruction_schedule_map \n",
        "inst_sched_map.instructions"
      ]
    },
    {
      "cell_type": "code",
      "execution_count": null,
      "metadata": {
        "id": "x4RAOt8ogzZs"
      },
      "outputs": [],
      "source": [
        "# Use optimized pulse\n",
        "\n",
        "# The PassManager helps decide how a circuit should be optimized\n",
        "# (https://qiskit.org/documentation/tutorials/circuits_advanced/04_transpiler_passes_and_passmanager.html)\n",
        "from qiskit.transpiler import PassManager\n",
        "\n",
        "# This function will pull pulse-level calibration values to build RZX gates and tell the PassManager to leave RZX gates alone\n",
        "from qiskit.transpiler.passes import RZXCalibrationBuilderNoEcho"
      ]
    },
    {
      "cell_type": "markdown",
      "source": [
        "# Load the variational parameters and the corresponding operators"
      ],
      "metadata": {
        "id": "lYJSSWDWPc5U"
      }
    },
    {
      "cell_type": "code",
      "execution_count": null,
      "metadata": {
        "id": "T3BGbjl1Lc3k"
      },
      "outputs": [],
      "source": [
        "params_file=path+'/params_trace_pi.dat' # Find the variational parameters\n",
        "ansatz_file=path+'/ansatz_pi.h5'        # The corresponding operators"
      ]
    },
    {
      "cell_type": "code",
      "execution_count": null,
      "metadata": {
        "id": "hCE5ksxIMRi7"
      },
      "outputs": [],
      "source": [
        "import h5py\n",
        "f_ansatz= h5py.File(ansatz_file, 'r') # open h5 file"
      ]
    },
    {
      "cell_type": "code",
      "execution_count": null,
      "metadata": {
        "id": "6DjC5_XBODDk"
      },
      "outputs": [],
      "source": [
        "def rzz_qiskit(qc,angle,q1,q0): # Using non-echo Rzx gate to create Rzz gate \n",
        "    qc.ry(-np.pi/2,q0)\n",
        "    qc.rzx(angle/2, q1, q0) # non-echo Rzx gate\n",
        "    qc.x(q1)             # X \\pi echo pulse\n",
        "    qc.rzx(-angle/2, q1, q0) # non-echo Rzx gate\n",
        "    qc.x(q1)\n",
        "    qc.ry(np.pi/2,q0)"
      ]
    },
    {
      "cell_type": "code",
      "execution_count": null,
      "metadata": {
        "colab": {
          "base_uri": "https://localhost:8080/",
          "height": 778
        },
        "id": "A6NDcwFMKW-U",
        "outputId": "49ce6430-b6d0-4fb3-8af5-0df43d398090"
      },
      "outputs": [
        {
          "output_type": "execute_result",
          "data": {
            "text/plain": [
              "<Figure size 1604.58x1047.48 with 1 Axes>"
            ],
            "image/png": "[encoded data removed]"
          },
          "metadata": {},
          "execution_count": 26
        }
      ],
      "source": [
        "target_time = np.pi \n",
        "\n",
        "target_t=np.pi # the evolution time we want to get \n",
        "f = open(params_file, \"r\") # open the variational parameters file\n",
        "num_string = f.readline()\n",
        "pi_closer = 0\n",
        "del_num = 1000\n",
        "while num_string != '': # find out variational parameters when t=target_t\n",
        "    num = num_string.split()\n",
        "    time = float(num[0])\n",
        "    if min(del_num,np.abs(time-target_t))==del_num:\n",
        "        pass\n",
        "    else:\n",
        "        del_num=np.abs(time-target_t)\n",
        "        pi_closer=time\n",
        "        params=num[1:]\n",
        "    num_string = f.readline()\n",
        "\n",
        "\n",
        "# Initialize quantum circuit for 3 qubits\n",
        "qr = QuantumRegister(7)\n",
        "qc = QuantumCircuit(qr)\n",
        "\n",
        "# Prepare initial state (remember we are only evolving 3 of the 7 qubits on jakarta qubits (q_5, q_3, q_1) corresponding to the state |110>)\n",
        "qc.x([3,5])  # DO NOT MODIFY (|q_5,q_3,q_1> = |110>)\n",
        "\n",
        "qlst=[1,3,5] # Use 1,3,5 circuits\n",
        "\n",
        "q0=qlst[0]\n",
        "\n",
        "q1=qlst[1]\n",
        "\n",
        "q2=qlst[2]\n",
        "\n",
        "\n",
        "for i,op in enumerate(f_ansatz['ansatz_code'][:,:]):\n",
        "    if op[1]==3:\n",
        "      # op[1]=3: means Rzz gate\n",
        "        rzz_qiskit(qc,float(params[i]),qlst[op[0]],qlst[op[2]])\n",
        "    elif op[1]==2:\n",
        "      # op[1]=2: means Ryy gate\n",
        "        qc.rx(np.pi/2,[qlst[op[0]],qlst[op[2]]])\n",
        "        rzz_qiskit(qc,float(params[i]),qlst[op[0]],qlst[op[2]])\n",
        "        qc.rx(-np.pi/2,[qlst[op[0]],qlst[op[2]]])\n",
        "    elif op[1]==1:\n",
        "      # # op[1]=1: means Rxx gate\n",
        "        qc.ry(np.pi/2,[qlst[op[0]],qlst[op[2]]])\n",
        "        rzz_qiskit(qc,float(params[i]),qlst[op[0]],qlst[op[2]])\n",
        "        qc.ry(-np.pi/2,[qlst[op[0]],qlst[op[2]]])\n",
        "\n",
        "\n",
        "# Generate state tomography circuits to evaluate fidelity of simulation\n",
        "st_qcs = state_tomography_circuits(qc, [qr[q0], qr[q1], qr[q2]])\n",
        "\n",
        "pm = PassManager([RZXCalibrationBuilderNoEcho(backend)])\n",
        "st_qcs_pulse_efficient = pm.run(st_qcs)\n",
        "st_qcs_pulse_efficient[-1].draw('mpl') # optimized the pulse sequence\n"
      ]
    },
    {
      "cell_type": "code",
      "execution_count": null,
      "metadata": {
        "id": "OPtgHM-3efca"
      },
      "outputs": [],
      "source": [
        "def DD_circuit_qiskit_pulse(circuit, backend, qubits_list, initial_layout = None, name=False):\n",
        "  \"\"\"\n",
        "\n",
        "  Dynamical decoupling X_\\pi-X_-\\pi \n",
        "\n",
        "\n",
        "  circuit: qiskit circuit\n",
        "\n",
        "  backend: ibm device\n",
        "\n",
        "  qubits_list: the qubit list used to run \n",
        "\n",
        "  name: 'the circuit name'\n",
        "\n",
        "  \"\"\"\n",
        "\n",
        "  if initial_layout:\n",
        "\n",
        "    circuit = transpile(circuit, backend, scheduling_method='asap',initial_layout =init_layout)\n",
        "\n",
        "  else:\n",
        "\n",
        "    circuit = transpile(circuit, backend, scheduling_method='asap')\n",
        "\n",
        "  if name:\n",
        "\n",
        "    DD_cir = QuantumCircuit(*circuit.qregs,*circuit.cregs,name=circuit.name)\n",
        "\n",
        "  else:\n",
        "\n",
        "    DD_cir = QuantumCircuit(*circuit.qregs,*circuit.cregs)\n",
        "  \n",
        "  for operation in circuit[:]:\n",
        "\n",
        "    if type(operation[0])==qiskit.circuit.delay.Delay:\n",
        "\n",
        "      if  operation[0].duration >= 400:\n",
        "\n",
        "        q_index = operation[1][0].index\n",
        "\n",
        "        if q_index in qubits_list:\n",
        "\n",
        "          t=(operation[0].duration-320)//4 \n",
        "\n",
        "          t = math.ceil((t)/16)*16 # must be the multiple of 16\n",
        "\n",
        "          DD_cir.delay(t,[q_index],'dt')\n",
        "\n",
        "          DD_cir.x(q_index) # X_\\pi \n",
        "\n",
        "          DD_cir.delay(2*t,[q_index],'dt')\n",
        "\n",
        "          DD_cir.z(q_index) # Z gate won't contribute time in ibm device\n",
        "\n",
        "          DD_cir.x(q_index) # X_-\\pi\n",
        "\n",
        "          DD_cir.z(q_index)  # Z gate won't contribute time in ibm device\n",
        "\n",
        "        else:\n",
        "\n",
        "          DD_cir.data.append(operation)\n",
        "\n",
        "      else:\n",
        "        \n",
        "        DD_cir.data.append(operation)\n",
        "\n",
        "    else:\n",
        "\n",
        "      DD_cir.data.append(operation)\n",
        "\n",
        "  # To optimized the pulse again\n",
        "\n",
        "  pm = PassManager([RZXCalibrationBuilderNoEcho(backend)]) \n",
        "  DD_cir_pulse_efficient = pm.run(DD_cir)\n",
        "\n",
        "  return DD_cir_pulse_efficient"
      ]
    },
    {
      "cell_type": "code",
      "execution_count": null,
      "metadata": {
        "id": "goiueFxAByky"
      },
      "outputs": [],
      "source": [
        "from qiskit import *"
      ]
    },
    {
      "cell_type": "code",
      "execution_count": null,
      "metadata": {
        "id": "AHQvPGm0y8zr"
      },
      "outputs": [],
      "source": [
        "from qiskit.ignis.mitigation.measurement import complete_meas_cal, CompleteMeasFitter"
      ]
    },
    {
      "cell_type": "code",
      "execution_count": null,
      "metadata": {
        "id": "f1iYv4SOJU90"
      },
      "outputs": [],
      "source": [
        "qubits_list = [1,3,5]\n",
        "\n",
        "cirs=[]\n",
        "\n",
        "# create the circuits w/ dynamical decoupling.\n",
        "for i in range(len(st_qcs)):\n",
        "\n",
        "    cir_pulse_efficient=DD_circuit_qiskit_pulse(st_qcs_pulse_efficient[i], backend, qubits_list, name=True )\n",
        "\n",
        "    cirs.append(cir_pulse_efficient)"
      ]
    },
    {
      "cell_type": "code",
      "execution_count": null,
      "metadata": {
        "id": "uBHm38OCCOb6"
      },
      "outputs": [],
      "source": [
        "# Using complete readout error mitigation\n",
        "qubits_list = [q0,q1,q2]\n",
        "\n",
        "shots=8192\n",
        "\n",
        "qr = QuantumRegister(len(qubits_list),'q')\n",
        "\n",
        "meas_calibs, state_labels = complete_meas_cal(qr=qr, circlabel='mcal')"
      ]
    },
    {
      "cell_type": "code",
      "execution_count": null,
      "metadata": {
        "colab": {
          "base_uri": "https://localhost:8080/"
        },
        "id": "S_Q3ZNRwzI6m",
        "outputId": "fb5ebfc1-ceae-4a3e-d379-67533266f227"
      },
      "outputs": [
        {
          "name": "stdout",
          "output_type": "stream",
          "text": [
            "Job ID 624cf6f6182d0264174c1d8b\n"
          ]
        }
      ],
      "source": [
        "# Execute the readout error mitigation circuits first\n",
        "init_layout = {}\n",
        "\n",
        "for i,j in enumerate(qubits_list):\n",
        "\n",
        "    init_layout[qr[i]] = j\n",
        "\n",
        "cal_results = execute(meas_calibs, backend, shots=shots, initial_layout=init_layout)\n",
        "\n",
        "print('Job ID', cal_results.job_id())"
      ]
    },
    {
      "cell_type": "code",
      "execution_count": null,
      "metadata": {
        "colab": {
          "base_uri": "https://localhost:8080/"
        },
        "id": "STuvLeLjKbEu",
        "outputId": "c33bd073-bb95-40c2-d353-0b0161b4aee7"
      },
      "outputs": [
        {
          "name": "stdout",
          "output_type": "stream",
          "text": [
            "Job ID 624cf6facaa265439af18d92\n",
            "Job ID 624cf6fd5ab79bc22af94560\n",
            "Job ID 624cf70073968c7dec07a6b6\n",
            "Job ID 624cf70273968c4e5707a6b7\n",
            "Job ID 624cf706182d02762a4c1d8d\n",
            "Job ID 624cf709d72033ee1567cc01\n",
            "Job ID 624cf70ccaa2658fb7f18d94\n",
            "Job ID 624cf70f5ab79b306af94562\n"
          ]
        }
      ],
      "source": [
        "shots = 8192\n",
        "reps =8\n",
        "\n",
        "backend = backend \n",
        "\n",
        "jobs = []\n",
        "for _ in range(reps):\n",
        "    # execute state tomography circuits\n",
        "    job = execute(cirs, backend, shots=shots)\n",
        "    \n",
        "    print('Job ID', job.job_id())\n",
        "    jobs.append(job)"
      ]
    },
    {
      "cell_type": "code",
      "execution_count": null,
      "metadata": {
        "colab": {
          "background_save": true,
          "base_uri": "https://localhost:8080/"
        },
        "id": "WuQa2RYTKbxx",
        "outputId": "4c251beb-ac70-4b3d-f326-1069f521760b"
      },
      "outputs": [
        {
          "name": "stdout",
          "output_type": "stream",
          "text": [
            "Job Status: job is queued (536)"
          ]
        }
      ],
      "source": [
        "for job in jobs:\n",
        "    job_monitor(job)\n",
        "    try:\n",
        "        if job.error_message() is not None:\n",
        "            print(job.error_message())\n",
        "    except:\n",
        "        pass"
      ]
    },
    {
      "cell_type": "markdown",
      "source": [
        "# Job Retrieve"
      ],
      "metadata": {
        "id": "isHmL4Z3rF-8"
      }
    },
    {
      "cell_type": "code",
      "execution_count": null,
      "metadata": {
        "id": "SJAKkHK7B0FZ"
      },
      "outputs": [],
      "source": [
        "# The history result\n",
        "\n",
        "\n",
        "# Readout error mitigation result\n",
        "cal_results=backend.retrieve_job('624cf6f6182d0264174c1d8b')\n",
        "\n",
        "# State tomography result\n",
        "ids=['624cf6facaa265439af18d92','624cf6fd5ab79bc22af94560','624cf70073968c7dec07a6b6','624cf70273968c4e5707a6b7',\n",
        "     '624cf706182d02762a4c1d8d','624cf709d72033ee1567cc01','624cf70ccaa2658fb7f18d94','624cf70f5ab79b306af94562']\n",
        "jobs=[]\n",
        "for id in ids:\n",
        "  jobs.append(backend.retrieve_job(id))"
      ]
    },
    {
      "cell_type": "code",
      "execution_count": null,
      "metadata": {
        "id": "tM0VW2fW7sGI"
      },
      "outputs": [],
      "source": [
        "# get readout error filter\n",
        "meas_fitter = CompleteMeasFitter(cal_results.result(), state_labels)\n",
        "\n",
        "meas_filter = meas_fitter.filter"
      ]
    },
    {
      "cell_type": "code",
      "execution_count": null,
      "metadata": {
        "id": "ThHkBs_FKez-",
        "colab": {
          "base_uri": "https://localhost:8080/"
        },
        "outputId": "894ff09c-7eb2-4658-cfb1-cb913e244860"
      },
      "outputs": [
        {
          "output_type": "stream",
          "name": "stdout",
          "text": [
            "state tomography fidelity = 0.9342 ± 0.0025\n"
          ]
        }
      ],
      "source": [
        "# Compute the state tomography based on the st_qcs quantum circuits and the results from those ciricuits\n",
        "def state_tomo(result, st_qcs): #, time):\n",
        "    # The expected final state; necessary to determine state tomography fidelity\n",
        "    target_state = (One^One^Zero).to_matrix()  # DO NOT MODIFY (|q_5,q_3,q_1> = |110>)\n",
        "    # Fit state tomography results\n",
        "    initial_state = One^One^Zero\n",
        "\n",
        "    #target_state = (U_heis3(float(time)) @ initial_state).eval().to_matrix()\n",
        "\n",
        "    mit_result = meas_fitter.filter.apply(result)\n",
        "\n",
        "    tomo_fitter = StateTomographyFitter(mit_result, st_qcs)\n",
        "\n",
        "    rho_fit = tomo_fitter.fit(method='lstsq')\n",
        "    # Compute fidelity\n",
        "    fid = state_fidelity(rho_fit, target_state)\n",
        "    return fid\n",
        "\n",
        "# Compute tomography fidelities for each repetition\n",
        "\n",
        "fids = []\n",
        "\n",
        "for job in jobs:\n",
        "    fid = state_tomo(job.result(), st_qcs)\n",
        "    fids.append(fid)\n",
        "    \n",
        "print('state tomography fidelity = {:.4f} \\u00B1 {:.4f}'.format(np.mean(fids), np.std(fids))) "
      ]
    },
    {
      "cell_type": "code",
      "execution_count": null,
      "metadata": {
        "id": "Fw7DB2YiKilC",
        "colab": {
          "base_uri": "https://localhost:8080/",
          "height": 337
        },
        "outputId": "3e847b89-a5d6-48c3-d9bd-104c6440dfda"
      },
      "outputs": [
        {
          "output_type": "display_data",
          "data": {
            "text/plain": [
              "<IPython.core.display.HTML object>"
            ],
            "text/html": [
              "<h3>Version Information</h3><table><tr><th>Qiskit Software</th><th>Version</th></tr><tr><td><code>qiskit-terra</code></td><td>0.20.0</td></tr><tr><td><code>qiskit-aer</code></td><td>0.10.4</td></tr><tr><td><code>qiskit-ignis</code></td><td>0.7.0</td></tr><tr><td><code>qiskit-ibmq-provider</code></td><td>0.19.0</td></tr><tr><th>System information</th></tr><tr><td>Python version</td><td>3.7.13</td></tr><tr><td>Python compiler</td><td>GCC 7.5.0</td></tr><tr><td>Python build</td><td>default, Mar 16 2022 17:37:17</td></tr><tr><td>OS</td><td>Linux</td></tr><tr><td>CPUs</td><td>1</td></tr><tr><td>Memory (Gb)</td><td>12.686653137207031</td></tr><tr><td colspan='2'>Wed Apr 13 02:26:23 2022 UTC</td></tr></table>"
            ]
          },
          "metadata": {}
        }
      ],
      "source": [
        "import qiskit.tools.jupyter\n",
        "%qiskit_version_table"
      ]
    },
    {
      "cell_type": "code",
      "execution_count": null,
      "metadata": {
        "id": "NHChsUfqGoht"
      },
      "outputs": [],
      "source": [
        ""
      ]
    }
  ],
  "metadata": {
    "colab": {
      "name": "Mini_Heisenberg_model_variational_gate_4_93._U_piipynb",
      "provenance": []
    },
    "kernelspec": {
      "display_name": "Python 3",
      "name": "python3"
    },
    "language_info": {
      "name": "python"
    }
  },
  "nbformat": 4,
  "nbformat_minor": 0
}