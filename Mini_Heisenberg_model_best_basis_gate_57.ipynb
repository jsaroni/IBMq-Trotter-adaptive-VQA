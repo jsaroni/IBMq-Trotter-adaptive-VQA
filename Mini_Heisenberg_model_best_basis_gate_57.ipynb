{
  "cells": [
    {
      "cell_type": "code",
      "execution_count": 1,
      "metadata": {
        "colab": {
          "base_uri": "https://localhost:8080/"
        },
        "id": "-Y4JeBTLEia6",
        "outputId": "301e51c7-f435-4ea5-c9d5-4f844405a582"
      },
      "outputs": [
        {
          "output_type": "stream",
          "name": "stdout",
          "text": [
            "Collecting qiskit\n",
            "  Downloading qiskit-0.36.0.tar.gz (13 kB)\n",
            "Collecting qiskit-terra==0.20.0\n",
            "  Downloading qiskit_terra-0.20.0-cp37-cp37m-manylinux_2_17_x86_64.manylinux2014_x86_64.whl (6.5 MB)\n",
            "\u001b[K     |████████████████████████████████| 6.5 MB 4.3 MB/s \n",
            "\u001b[?25hCollecting qiskit-aer==0.10.4\n",
            "  Downloading qiskit_aer-0.10.4-cp37-cp37m-manylinux_2_12_x86_64.manylinux2010_x86_64.whl (18.0 MB)\n",
            "\u001b[K     |████████████████████████████████| 18.0 MB 1.9 MB/s \n",
            "\u001b[?25hCollecting qiskit-ibmq-provider==0.19.0\n",
            "  Downloading qiskit_ibmq_provider-0.19.0-py3-none-any.whl (240 kB)\n",
            "\u001b[K     |████████████████████████████████| 240 kB 35.8 MB/s \n",
            "\u001b[?25hCollecting qiskit-ignis==0.7.0\n",
            "  Downloading qiskit_ignis-0.7.0-py3-none-any.whl (200 kB)\n",
            "\u001b[K     |████████████████████████████████| 200 kB 20.3 MB/s \n",
            "\u001b[?25hRequirement already satisfied: scipy>=1.0 in /usr/local/lib/python3.7/dist-packages (from qiskit-aer==0.10.4->qiskit) (1.4.1)\n",
            "Requirement already satisfied: numpy>=1.16.3 in /usr/local/lib/python3.7/dist-packages (from qiskit-aer==0.10.4->qiskit) (1.21.5)\n",
            "Collecting requests-ntlm>=1.1.0\n",
            "  Downloading requests_ntlm-1.1.0-py2.py3-none-any.whl (5.7 kB)\n",
            "Collecting websocket-client>=1.0.1\n",
            "  Downloading websocket_client-1.3.2-py3-none-any.whl (54 kB)\n",
            "\u001b[K     |████████████████████████████████| 54 kB 2.2 MB/s \n",
            "\u001b[?25hRequirement already satisfied: requests>=2.19 in /usr/local/lib/python3.7/dist-packages (from qiskit-ibmq-provider==0.19.0->qiskit) (2.23.0)\n",
            "Requirement already satisfied: python-dateutil>=2.8.0 in /usr/local/lib/python3.7/dist-packages (from qiskit-ibmq-provider==0.19.0->qiskit) (2.8.2)\n",
            "Requirement already satisfied: urllib3>=1.21.1 in /usr/local/lib/python3.7/dist-packages (from qiskit-ibmq-provider==0.19.0->qiskit) (1.24.3)\n",
            "Collecting websockets>=10.0\n",
            "  Downloading websockets-10.2-cp37-cp37m-manylinux_2_5_x86_64.manylinux1_x86_64.manylinux_2_12_x86_64.manylinux2010_x86_64.whl (111 kB)\n",
            "\u001b[K     |████████████████████████████████| 111 kB 40.0 MB/s \n",
            "\u001b[?25hRequirement already satisfied: setuptools>=40.1.0 in /usr/local/lib/python3.7/dist-packages (from qiskit-ignis==0.7.0->qiskit) (57.4.0)\n",
            "Collecting retworkx>=0.8.0\n",
            "  Downloading retworkx-0.11.0-cp37-cp37m-manylinux_2_5_x86_64.manylinux1_x86_64.manylinux_2_12_x86_64.manylinux2010_x86_64.whl (1.6 MB)\n",
            "\u001b[K     |████████████████████████████████| 1.6 MB 32.6 MB/s \n",
            "\u001b[?25hCollecting tweedledum<2.0,>=1.1\n",
            "  Downloading tweedledum-1.1.1-cp37-cp37m-manylinux_2_12_x86_64.manylinux2010_x86_64.whl (943 kB)\n",
            "\u001b[K     |████████████████████████████████| 943 kB 21.4 MB/s \n",
            "\u001b[?25hCollecting ply>=3.10\n",
            "  Downloading ply-3.11-py2.py3-none-any.whl (49 kB)\n",
            "\u001b[K     |████████████████████████████████| 49 kB 5.0 MB/s \n",
            "\u001b[?25hCollecting symengine>=0.9\n",
            "  Downloading symengine-0.9.2-cp37-cp37m-manylinux2010_x86_64.whl (37.5 MB)\n",
            "\u001b[K     |████████████████████████████████| 37.5 MB 1.5 MB/s \n",
            "\u001b[?25hCollecting python-constraint>=1.4\n",
            "  Downloading python-constraint-1.4.0.tar.bz2 (18 kB)\n",
            "Collecting stevedore>=3.0.0\n",
            "  Downloading stevedore-3.5.0-py3-none-any.whl (49 kB)\n",
            "\u001b[K     |████████████████████████████████| 49 kB 5.3 MB/s \n",
            "\u001b[?25hRequirement already satisfied: psutil>=5 in /usr/local/lib/python3.7/dist-packages (from qiskit-terra==0.20.0->qiskit) (5.4.8)\n",
            "Collecting scipy>=1.0\n",
            "  Downloading scipy-1.7.3-cp37-cp37m-manylinux_2_12_x86_64.manylinux2010_x86_64.whl (38.1 MB)\n",
            "\u001b[K     |████████████████████████████████| 38.1 MB 1.4 MB/s \n",
            "\u001b[?25hRequirement already satisfied: dill>=0.3 in /usr/local/lib/python3.7/dist-packages (from qiskit-terra==0.20.0->qiskit) (0.3.4)\n",
            "Requirement already satisfied: sympy>=1.3 in /usr/local/lib/python3.7/dist-packages (from qiskit-terra==0.20.0->qiskit) (1.7.1)\n",
            "Requirement already satisfied: six>=1.5 in /usr/local/lib/python3.7/dist-packages (from python-dateutil>=2.8.0->qiskit-ibmq-provider==0.19.0->qiskit) (1.15.0)\n",
            "Requirement already satisfied: certifi>=2017.4.17 in /usr/local/lib/python3.7/dist-packages (from requests>=2.19->qiskit-ibmq-provider==0.19.0->qiskit) (2021.10.8)\n",
            "Requirement already satisfied: idna<3,>=2.5 in /usr/local/lib/python3.7/dist-packages (from requests>=2.19->qiskit-ibmq-provider==0.19.0->qiskit) (2.10)\n",
            "Requirement already satisfied: chardet<4,>=3.0.2 in /usr/local/lib/python3.7/dist-packages (from requests>=2.19->qiskit-ibmq-provider==0.19.0->qiskit) (3.0.4)\n",
            "Collecting ntlm-auth>=1.0.2\n",
            "  Downloading ntlm_auth-1.5.0-py2.py3-none-any.whl (29 kB)\n",
            "Collecting cryptography>=1.3\n",
            "  Downloading cryptography-36.0.2-cp36-abi3-manylinux_2_24_x86_64.whl (3.6 MB)\n",
            "\u001b[K     |████████████████████████████████| 3.6 MB 38.8 MB/s \n",
            "\u001b[?25hRequirement already satisfied: cffi>=1.12 in /usr/local/lib/python3.7/dist-packages (from cryptography>=1.3->requests-ntlm>=1.1.0->qiskit-ibmq-provider==0.19.0->qiskit) (1.15.0)\n",
            "Requirement already satisfied: pycparser in /usr/local/lib/python3.7/dist-packages (from cffi>=1.12->cryptography>=1.3->requests-ntlm>=1.1.0->qiskit-ibmq-provider==0.19.0->qiskit) (2.21)\n",
            "Requirement already satisfied: importlib-metadata>=1.7.0 in /usr/local/lib/python3.7/dist-packages (from stevedore>=3.0.0->qiskit-terra==0.20.0->qiskit) (4.11.3)\n",
            "Collecting pbr!=2.1.0,>=2.0.0\n",
            "  Downloading pbr-5.8.1-py2.py3-none-any.whl (113 kB)\n",
            "\u001b[K     |████████████████████████████████| 113 kB 58.6 MB/s \n",
            "\u001b[?25hRequirement already satisfied: zipp>=0.5 in /usr/local/lib/python3.7/dist-packages (from importlib-metadata>=1.7.0->stevedore>=3.0.0->qiskit-terra==0.20.0->qiskit) (3.7.0)\n",
            "Requirement already satisfied: typing-extensions>=3.6.4 in /usr/local/lib/python3.7/dist-packages (from importlib-metadata>=1.7.0->stevedore>=3.0.0->qiskit-terra==0.20.0->qiskit) (3.10.0.2)\n",
            "Requirement already satisfied: mpmath>=0.19 in /usr/local/lib/python3.7/dist-packages (from sympy>=1.3->qiskit-terra==0.20.0->qiskit) (1.2.1)\n",
            "Building wheels for collected packages: qiskit, python-constraint\n",
            "  Building wheel for qiskit (setup.py) ... \u001b[?25l\u001b[?25hdone\n",
            "  Created wheel for qiskit: filename=qiskit-0.36.0-py3-none-any.whl size=11861 sha256=e22d1c86fa28a12c67b188b5646f95f08658645f1dd0e459b1647ad71ea5d318\n",
            "  Stored in directory: /root/.cache/pip/wheels/c3/25/bc/bb06f0f4587fa7253f761a778580d546f13e031b90fc929bb3\n",
            "  Building wheel for python-constraint (setup.py) ... \u001b[?25l\u001b[?25hdone\n",
            "  Created wheel for python-constraint: filename=python_constraint-1.4.0-py2.py3-none-any.whl size=24081 sha256=ebc70f6ae520377640cd28ba76f5ad55775d0a12d06722344a6476442b98f6ff\n",
            "  Stored in directory: /root/.cache/pip/wheels/07/27/db/1222c80eb1e431f3d2199c12569cb1cac60f562a451fe30479\n",
            "Successfully built qiskit python-constraint\n",
            "Installing collected packages: pbr, tweedledum, symengine, stevedore, scipy, retworkx, python-constraint, ply, ntlm-auth, cryptography, websockets, websocket-client, requests-ntlm, qiskit-terra, qiskit-ignis, qiskit-ibmq-provider, qiskit-aer, qiskit\n",
            "  Attempting uninstall: scipy\n",
            "    Found existing installation: scipy 1.4.1\n",
            "    Uninstalling scipy-1.4.1:\n",
            "      Successfully uninstalled scipy-1.4.1\n",
            "\u001b[31mERROR: pip's dependency resolver does not currently take into account all the packages that are installed. This behaviour is the source of the following dependency conflicts.\n",
            "albumentations 0.1.12 requires imgaug<0.2.7,>=0.2.5, but you have imgaug 0.2.9 which is incompatible.\u001b[0m\n",
            "Successfully installed cryptography-36.0.2 ntlm-auth-1.5.0 pbr-5.8.1 ply-3.11 python-constraint-1.4.0 qiskit-0.36.0 qiskit-aer-0.10.4 qiskit-ibmq-provider-0.19.0 qiskit-ignis-0.7.0 qiskit-terra-0.20.0 requests-ntlm-1.1.0 retworkx-0.11.0 scipy-1.7.3 stevedore-3.5.0 symengine-0.9.2 tweedledum-1.1.1 websocket-client-1.3.2 websockets-10.2\n",
            "Collecting pylatexenc\n",
            "  Downloading pylatexenc-2.10.tar.gz (162 kB)\n",
            "\u001b[K     |████████████████████████████████| 162 kB 5.3 MB/s \n",
            "\u001b[?25hBuilding wheels for collected packages: pylatexenc\n",
            "  Building wheel for pylatexenc (setup.py) ... \u001b[?25l\u001b[?25hdone\n",
            "  Created wheel for pylatexenc: filename=pylatexenc-2.10-py3-none-any.whl size=136835 sha256=8639160813ca803bcde2451f601e2a6dacba91fa173eb848868627236dc22de4\n",
            "  Stored in directory: /root/.cache/pip/wheels/f1/8a/f5/33ee79d4473eb201b519fa40f989b842e373237395a3421f52\n",
            "Successfully built pylatexenc\n",
            "Installing collected packages: pylatexenc\n",
            "Successfully installed pylatexenc-2.10\n"
          ]
        }
      ],
      "source": [
        "!pip install qiskit\n",
        "!pip install pylatexenc"
      ]
    },
    {
      "cell_type": "markdown",
      "metadata": {
        "id": "pDSQ10_AFB31"
      },
      "source": [
        "# 1 Introduction\n",
        "## 1-1 Quantum Simulation\n",
        "One of the leading uses for quantum computers will be to simulate quantum systems such as molecules or engineered materials. Actually executing a quantum simulation on a current quantum computer, however, can be difficult and error prone. Your objective for this Open Science Prize is to significantly improve the state-of-the-art for quantum simulation (details in Section 2).\n",
        "\n",
        "The quantum system you will simulate is a quantum spin-1/2 model, where each qubit represents a quantum spin-1/2 particle in a 1D chain. Quantum spin models have some amazing properties and uses. Computationally speaking, certain optimization problems can be mapped to spin models and hence minimized on a quantum computer. Physically speaking, spin models show a variety of quantum behavior such as large entangled states, quantum phases of matter, quantum many-body affects, and many other open questions in physics research.\n",
        "\n",
        "There are many different spin models, but we will focus on the $XXX$ Heisenberg spin model. Though it is not as well known as the transverse-field Ising model, the $XXX$ Heisenberg model is of practical and theoretical interest. It can also be difficult to simulate, which is where you come in.\n",
        "\n",
        "The notebook is organized as follows: 1) Section 1 (labeled 1-X) provides you with brief introductions to the $XXX$ Heisenberg model, time evolving a Hamiltonian, and decomposing a time evolution operator into gates for a quantum computer to execute. 2) Section 2 (labeled 2-X) outlines the specific requirements and boundaries associated with completing and competing in the Open Science Prize. Continuing from Section 1, the notebook showns an example solution."
      ]
    },
    {
      "cell_type": "code",
      "execution_count": 2,
      "metadata": {
        "id": "XMnJNvGOEAEE"
      },
      "outputs": [],
      "source": [
        "import numpy as np\n",
        "import matplotlib.pyplot as plt\n",
        "plt.rcParams.update({'font.size': 16})  # enlarge matplotlib fonts\n",
        "\n",
        "# Import qubit states Zero (|0>) and One (|1>), and Pauli operators (X, Y, Z)\n",
        "from qiskit.opflow import Zero, One, I, X, Y, Z\n",
        "import math\n",
        "# Suppress warnings\n",
        "import warnings\n",
        "warnings.filterwarnings('ignore')"
      ]
    },
    {
      "cell_type": "code",
      "execution_count": 3,
      "metadata": {
        "id": "ssVgSm7BFumi"
      },
      "outputs": [],
      "source": [
        "# Returns the matrix representation of the XXX Heisenberg model for 3 spin-1/2 particles in a line\n",
        "def H_heis3():\n",
        "    # Interactions (I is the identity matrix; X, Y, and Z are Pauli matricies; ^ is a tensor product)\n",
        "    XXs = (I^X^X) + (X^X^I)\n",
        "    YYs = (I^Y^Y) + (Y^Y^I)\n",
        "    ZZs = (I^Z^Z) + (Z^Z^I)\n",
        "    \n",
        "    # Sum interactions\n",
        "    H = XXs + YYs + ZZs\n",
        "    \n",
        "    # Return Hamiltonian\n",
        "    return H"
      ]
    },
    {
      "cell_type": "code",
      "execution_count": 4,
      "metadata": {
        "id": "uoMH4uJ1Ef9Z"
      },
      "outputs": [],
      "source": [
        "# Returns the matrix representation of U_heis3(t) for a given time t assuming an XXX Heisenberg Hamiltonian for 3 spins-1/2 particles in a line\n",
        "def U_heis3(t):\n",
        "    # Compute XXX Hamiltonian for 3 spins in a line\n",
        "    H = H_heis3()\n",
        "    \n",
        "    # Return the exponential of -i multipled by time t multipled by the 3 spin XXX Heisenberg Hamilonian \n",
        "    return (t * H).exp_i()"
      ]
    },
    {
      "cell_type": "code",
      "execution_count": 5,
      "metadata": {
        "colab": {
          "base_uri": "https://localhost:8080/",
          "height": 312
        },
        "id": "4FSdWf6nFPZ_",
        "outputId": "0a1d56cf-4d3e-43c5-a65a-73a05a9e22ac"
      },
      "outputs": [
        {
          "output_type": "display_data",
          "data": {
            "text/plain": [
              "<Figure size 432x288 with 1 Axes>"
            ],
            "image/png": "[encoded data removed]"
          },
          "metadata": {
            "needs_background": "light"
          }
        }
      ],
      "source": [
        "# Define array of time points\n",
        "ts = np.linspace(0, np.pi, 100)\n",
        "\n",
        "# Define initial state |110>\n",
        "initial_state = One^One^Zero\n",
        "\n",
        "# Compute probability of remaining in |110> state over the array of time points\n",
        " # ~initial_state gives the bra of the initial state (<110|)\n",
        " # @ is short hand for matrix multiplication\n",
        " # U_heis3(t) is the unitary time evolution at time t\n",
        " # t needs to be wrapped with float(t) to avoid a bug\n",
        " # (...).eval() returns the inner product <110|U_heis3(t)|110>\n",
        " #  np.abs(...)**2 is the modulus squared of the innner product which is the expectation value, or probability, of remaining in |110>\n",
        "probs_110 = [np.abs((~initial_state @ U_heis3(float(t)) @ initial_state).eval())**2 for t in ts]\n",
        "\n",
        "# Plot evolution of |110>\n",
        "plt.plot(ts, probs_110)\n",
        "plt.xlabel('time')\n",
        "plt.ylabel(r'probability of state $|110\\rangle$')\n",
        "plt.title(r'Evolution of state $|110\\rangle$ under $H_{Heis3}$')\n",
        "plt.grid()\n",
        "plt.show()"
      ]
    },
    {
      "cell_type": "code",
      "execution_count": 6,
      "metadata": {
        "id": "rIUgPgWnFmaF"
      },
      "outputs": [],
      "source": [
        "# Importing standard Qiskit modules\n",
        "from qiskit import QuantumCircuit, QuantumRegister, IBMQ, execute, transpile\n",
        "from qiskit.providers.aer import QasmSimulator\n",
        "from qiskit.tools.monitor import job_monitor\n",
        "from qiskit.circuit import Parameter\n",
        "\n",
        "# Import state tomography modules\n",
        "from qiskit.ignis.verification.tomography import state_tomography_circuits, StateTomographyFitter\n",
        "from qiskit.quantum_info import state_fidelity\n",
        "\n",
        "# Qiskit Pulse imports\n",
        "import qiskit.pulse\n",
        "from qiskit import pulse\n",
        "from qiskit.pulse import library\n",
        "\n",
        "from qiskit import *\n",
        "from qiskit.pulse import Play, Schedule, DriveChannel, ControlChannel, Waveform, ShiftPhase\n",
        "from qiskit.pulse.library import drag, GaussianSquare, Drag\n",
        "\n",
        "from scipy.special import erf\n",
        "\n",
        "# suppress warnings\n",
        "import warnings\n",
        "warnings.filterwarnings('ignore')"
      ]
    },
    {
      "cell_type": "code",
      "execution_count": 7,
      "metadata": {
        "colab": {
          "base_uri": "https://localhost:8080/"
        },
        "id": "TX_0NFtMF5fX",
        "outputId": "9b947b35-97f4-41dc-e4ad-d4fcce8db512"
      },
      "outputs": [
        {
          "output_type": "execute_result",
          "data": {
            "text/plain": [
              "<AccountProvider for IBMQ(hub='ibm-q', group='open', project='main')>"
            ]
          },
          "metadata": {},
          "execution_count": 7
        }
      ],
      "source": [
        "# load IBMQ Account data\n",
        "IBMQ.save_account('',overwrite=True )\n",
        "IBMQ.load_account()\n"
      ]
    },
    {
      "cell_type": "code",
      "execution_count": 8,
      "metadata": {
        "id": "HoVOPxISGpKh"
      },
      "outputs": [],
      "source": [
        "\n",
        "provider = IBMQ.get_provider(hub='ibm-q-community', group='ibmquantumawards', project='open-science-22')\n",
        "\n",
        "backend = provider.get_backend('ibmq_jakarta')\n",
        "\n",
        "properties = backend.properties()"
      ]
    },
    {
      "cell_type": "code",
      "execution_count": 9,
      "metadata": {
        "colab": {
          "base_uri": "https://localhost:8080/"
        },
        "id": "Mp5wFaeFiSX8",
        "outputId": "3d63728d-79e9-4aea-8b53-5f70c6657865"
      },
      "outputs": [
        {
          "output_type": "stream",
          "name": "stdout",
          "text": [
            "Sampling time: 0.2222222222222222 ns\n"
          ]
        }
      ],
      "source": [
        "backend_config = backend.configuration()\n",
        "ham_params = backend_config.hamiltonian['vars']\n",
        "dt = backend_config.dt\n",
        "print(f\"Sampling time: {dt*1e9} ns\")"
      ]
    },
    {
      "cell_type": "code",
      "execution_count": 10,
      "metadata": {
        "colab": {
          "base_uri": "https://localhost:8080/"
        },
        "id": "zR6uTFLwiNn1",
        "outputId": "31988335-5d84-4846-a493-f0201f5dc4ac"
      },
      "outputs": [
        {
          "output_type": "execute_result",
          "data": {
            "text/plain": [
              "['cx', 'id', 'measure', 'rz', 'sx', 'u1', 'u2', 'u3', 'x']"
            ]
          },
          "metadata": {},
          "execution_count": 10
        }
      ],
      "source": [
        "backend_defaults = backend.defaults()\n",
        "inst_sched_map = backend_defaults.instruction_schedule_map \n",
        "inst_sched_map.instructions"
      ]
    },
    {
      "cell_type": "code",
      "execution_count": 11,
      "metadata": {
        "id": "QrR-99OvY-Z8"
      },
      "outputs": [],
      "source": [
        "def cx_pulse_instructions(qc: int, qt: int):\n",
        "    \"\"\"Retrieve the CNOT pulse schedule for the given\n",
        "    qubit pair from the backend defaults.\n",
        "    \n",
        "    Args:\n",
        "      qc: control qubit index\n",
        "      qt: target qubit index\n",
        "    \"\"\"\n",
        "    if [qc, qt] not in backend_config.coupling_map:\n",
        "        print('Qubit pair has no direct cross resonance!')\n",
        "    else:\n",
        "        cx = inst_sched_map.get('cx', qubits=[qc, qt])\n",
        "        return cx\n",
        "\n",
        "def Exract_GaussianSquare(q1, q2):\n",
        "    \"\"\"Retrieve the Gaussiacross resonance pulse waveform\n",
        "    for the qubit pair from the cx (CNOT) schedule.\n",
        "    \n",
        "    Args:\n",
        "      q1: control qubit index\n",
        "      q2: target qubit index\n",
        "    \"\"\"\n",
        "    cx = cx_pulse_instructions(q1, q2)\n",
        "    cx1 = cx_pulse_instructions(q2, q1)\n",
        "    if cx.instructions[-1][0] < cx1.instructions[-1][0]:\n",
        "        cx=cx1\n",
        "    idx = 0\n",
        "    Dr_gs = []\n",
        "    cr_gs = []\n",
        "    control_channel=''\n",
        "    Drive_Channel=''\n",
        "    another_Drive_Channel=''\n",
        "    #look for first Play instruction on a ControlChannel\n",
        "    N = 1\n",
        "    for i in range(len(cx.instructions)):\n",
        "        if type(cx.instructions[i][1]) is ShiftPhase and type(cx.instructions[i][1].channel) is DriveChannel\\\n",
        "        and cx.instructions[i][1].phase == -math.pi/2 and N == 1 :\n",
        "            \n",
        "            another_Drive_Channel=cx.instructions[i][1].channels[0]\n",
        "            \n",
        "        if type(cx.instructions[i][1].channels[0]) is ControlChannel and type(cx.instructions[i][1]) is Play\\\n",
        "          and type(cx.instructions[i][1].pulse) is GaussianSquare:\n",
        "\n",
        "            cr_gs.append(cx.instructions[i][1].pulse)\n",
        "\n",
        "            control_channel=cx.instructions[i][1].channels[0]\n",
        "\n",
        "        if type(cx.instructions[i][1].channels[0]) is DriveChannel and type(cx.instructions[i][1]) is Play \\\n",
        "          and type(cx.instructions[i][1].pulse) is GaussianSquare:\n",
        "\n",
        "            Dr_gs.append(cx.instructions[i][1].pulse)\n",
        "\n",
        "            Drive_Channel=cx.instructions[i][1].channels[0]\n",
        "        if type(cx.instructions[i][1]) is Play:\n",
        "            N=0\n",
        "\n",
        "    return control_channel, cr_gs, Drive_Channel, Dr_gs, another_Drive_Channel\n",
        "\n",
        "\n",
        "def Get_Shift_phase_CRTL_Chan(q1, q2):\n",
        "    \"\"\"Get q1 and q2 corresponding control channel\n",
        "    \n",
        "    Args:\n",
        "      q1: small one\n",
        "      qt: target qubit index\n",
        "    \"\"\"\n",
        "    cx1 = cx_pulse_instructions(q1, q2)\n",
        "    cx2 = cx_pulse_instructions(q2, q1)\n",
        "    if cx1.instructions[-1][0] > cx2.instructions[-1][0]:\n",
        "        cx1, cx2 = cx2, cx1\n",
        "    control_chan0 = []\n",
        "    control_chan1 = []\n",
        "    for i in range(len(cx2.instructions)):\n",
        "        if type(cx2.instructions[i][1]) is ShiftPhase and type(cx2.instructions[i][1].channel) is ControlChannel\\\n",
        "        and cx2.instructions[i][1].phase == -math.pi/2 :\n",
        "            control_chan0.append(cx2.instructions[i][1].channel)\n",
        "        if type(cx2.instructions[i][1]) is ShiftPhase and type(cx2.instructions[i][1].channel) is ControlChannel\\\n",
        "        and cx2.instructions[i][1].phase == -math.pi :\n",
        "            control_chan1.append(cx2.instructions[i][1].channel)\n",
        "        if type(cx2.instructions[i][1]) is Play:\n",
        "            break\n",
        "\n",
        "    return control_chan0, control_chan1\n",
        "\n",
        "\n",
        "def Rzz_90_gate_schedule (q0,q1):\n",
        "    uchan, cr_pulse, Dchan, dr_pulse, another_Dchan = Exract_GaussianSquare(q0, q1)\n",
        "    #Y_chan, X_chan = Get_XY_chan(q0,q1)\n",
        "    control_chan0, control_chan1 = Get_Shift_phase_CRTL_Chan(q0, q1)\n",
        "    \n",
        "    \n",
        "    Y_q = Dchan.index\n",
        "    \n",
        "    X_q = another_Dchan.index\n",
        "    \n",
        "    Y90p = inst_sched_map.get('u2', P0=0, P1=0, qubits=[Y_q]).instructions\n",
        "    \n",
        "    X_180 = inst_sched_map.get('x', qubits=[X_q]).instructions[0][1].pulse\n",
        "    \n",
        "    for Y in Y90p:\n",
        "        if type(Y[1]) is Play:\n",
        "            Y_pulse = Y[1].pulse\n",
        "            \n",
        "    drive_samples = Y_pulse.duration\n",
        "    \n",
        "    cr_samples = cr_pulse[0].duration\n",
        "  \n",
        "    Rzz_90_schedule = pulse.Schedule(name=\"RZZ gate m90 pulse\") \n",
        "    \n",
        "    Rzz_90_schedule |= ShiftPhase(-math.pi, Dchan) #<< int(2*cr_samples+2*drive_samples)\n",
        "    \n",
        "    for chan in control_chan1:\n",
        "        Rzz_90_schedule |= ShiftPhase(-math.pi, chan) #<< int(2*cr_samples+2*drive_samples)\n",
        "    \n",
        "    Rzz_90_schedule |= Play(Y_pulse, Dchan)\n",
        "    \n",
        "    Rzz_90_schedule |= ShiftPhase(-math.pi, Dchan) << int(drive_samples)\n",
        "    \n",
        "    for chan in control_chan1: \n",
        "        Rzz_90_schedule |= ShiftPhase(-math.pi, chan) << int(drive_samples)\n",
        "\n",
        "    \n",
        "    Rzz_90_schedule |= Play(dr_pulse[0], Dchan) << int(drive_samples)\n",
        "    Rzz_90_schedule |= Play(cr_pulse[0], uchan) << int(drive_samples)\n",
        "    \n",
        "    Rzz_90_schedule |= Play(X_180, another_Dchan) << int(cr_samples+drive_samples)\n",
        "\n",
        "    Rzz_90_schedule |= Play(dr_pulse[1], Dchan) << int(cr_samples+2*drive_samples)\n",
        "    Rzz_90_schedule |= Play(cr_pulse[1], uchan) << int(cr_samples+2*drive_samples)\n",
        "    \n",
        "    Rzz_90_schedule |= Play(X_180, another_Dchan) << int(2*cr_samples+2*drive_samples)\n",
        "\n",
        "    Rzz_90_schedule |= Play(Y_pulse, Dchan) << int(2*cr_samples+2*drive_samples)\n",
        "    \n",
        "    return Rzz_90_schedule\n",
        "\n",
        "def Rzz_gate_schedule (q0,q1,theta):\n",
        "    \n",
        "    uchan, cr_pulse, Dchan, dr_pulse, another_Dchan = Exract_GaussianSquare(q0, q1)\n",
        "    #Y_chan, X_chan = Get_XY_chan(q0,q1)\n",
        "    control_chan0, control_chan1 = Get_Shift_phase_CRTL_Chan(q0, q1)\n",
        "    \n",
        "    Frac = 2*np.abs(theta)/math.pi\n",
        "    \n",
        "    Y_q = Dchan.index\n",
        "    \n",
        "    X_q = another_Dchan.index\n",
        "    \n",
        "    Y90p = inst_sched_map.get('u2', P0=0, P1=0, qubits=[Y_q]).instructions\n",
        "    \n",
        "    X_180 = inst_sched_map.get('x', qubits=[X_q]).instructions[0][1].pulse\n",
        "    \n",
        "    ### find out Y_90 pulse \n",
        "    \n",
        "    for Y in Y90p:\n",
        "        \n",
        "        if type(Y[1]) is Play:\n",
        "            \n",
        "            Y_pulse = Y[1].pulse\n",
        "            \n",
        "    ###\n",
        "            \n",
        "    drive_samples = Y_pulse.duration\n",
        "    \n",
        "    cr_samples = cr_pulse[0].duration\n",
        "    \n",
        "    cr_width= cr_pulse[0].width\n",
        "    \n",
        "    cr_sigma = cr_pulse[0].sigma\n",
        "    \n",
        "    cr_amp = np.abs(cr_pulse[0].amp)\n",
        "    \n",
        "    number_std = (cr_samples-cr_width)/cr_sigma\n",
        "    \n",
        "    Area_g = cr_amp*cr_sigma*np.sqrt(2*np.pi)*erf(number_std) \n",
        "    \n",
        "    Area_pi_2 = cr_width*cr_amp+Area_g \n",
        "    \n",
        "    dr_sigma = dr_pulse[0].sigma\n",
        "    \n",
        "    dr_amp = np.abs(dr_pulse[0].amp)\n",
        "    \n",
        "    Area_theta = Frac * Area_pi_2\n",
        "    \n",
        "    if Area_theta > Area_g:\n",
        "        \n",
        "        New_width = (Area_theta-Area_g)/cr_amp\n",
        "        \n",
        "        new_duration = math.ceil((New_width+number_std*cr_sigma)/16)*16\n",
        "        \n",
        "        New_width = new_duration-number_std*cr_sigma\n",
        "        \n",
        "        cr_pulse[0] = GaussianSquare(duration=new_duration, amp=cr_pulse[0].amp, sigma=cr_sigma, width=New_width)\n",
        "        \n",
        "        cr_pulse[1] = GaussianSquare(duration=new_duration, amp=-cr_pulse[0].amp, sigma=cr_sigma, width=New_width)\n",
        "        \n",
        "        dr_pulse[0] = GaussianSquare(duration=new_duration, amp=dr_pulse[0].amp, sigma=dr_sigma, width=New_width)\n",
        "        \n",
        "        dr_pulse[1] = GaussianSquare(duration=new_duration, amp=-dr_pulse[0].amp, sigma=dr_sigma, width=New_width)\n",
        "        \n",
        "        \n",
        "    else:\n",
        "        \n",
        "        New_amp_cr =  cr_pulse[0].amp*Area_theta/Area_g\n",
        "        \n",
        "        New_amp_dr= dr_pulse[0].amp*Area_theta/Area_g\n",
        "        \n",
        "        new_duration = number_std * cr_sigma\n",
        "        \n",
        "        cr_pulse[0] = GaussianSquare(duration=int(new_duration), amp=New_amp_cr, sigma=cr_sigma, width=0)\n",
        "        \n",
        "        cr_pulse[1] = GaussianSquare(duration=int(new_duration), amp=-New_amp_cr, sigma=cr_sigma, width=0)\n",
        "        \n",
        "        dr_pulse[0] = GaussianSquare(duration=int(new_duration), amp=New_amp_dr, sigma=dr_sigma, width=0)\n",
        "        \n",
        "        dr_pulse[1] = GaussianSquare(duration=int(new_duration), amp=-New_amp_dr, sigma=dr_sigma, width=0)\n",
        "        \n",
        "    # Set up the Rzz schedule\n",
        "    if theta < 0 :\n",
        "  \n",
        "        RZZ_schedule = pulse.Schedule(name=\"RZZ gate pulse\") \n",
        "    \n",
        "        ### Y_-90 pulse\n",
        "    \n",
        "        RZZ_schedule |= ShiftPhase(-math.pi, Dchan) \n",
        "    \n",
        "        for chan in control_chan1:\n",
        "            \n",
        "            RZZ_schedule |= ShiftPhase(-math.pi, chan) \n",
        "    \n",
        "        RZZ_schedule |= Play(Y_pulse, Dchan)\n",
        "    \n",
        "        RZZ_schedule |= ShiftPhase(-math.pi, Dchan) << int(drive_samples)\n",
        "    \n",
        "        for chan in control_chan1: \n",
        "        \n",
        "            RZZ_schedule |= ShiftPhase(-math.pi, chan) << int(drive_samples)\n",
        "        \n",
        "         ### \n",
        "    \n",
        "         ### Cross resonant pulses and X rotation echo pulse\n",
        "    \n",
        "        RZZ_schedule |= Play(dr_pulse[0], Dchan) << int(drive_samples)\n",
        "        RZZ_schedule |= Play(cr_pulse[0], uchan) << int(drive_samples)\n",
        "    \n",
        "        RZZ_schedule |= Play(X_180, another_Dchan) << int(new_duration+drive_samples)\n",
        "\n",
        "        RZZ_schedule |= Play(dr_pulse[1], Dchan) << int(new_duration+2*drive_samples)\n",
        "        RZZ_schedule |= Play(cr_pulse[1], uchan) << int(new_duration+2*drive_samples)\n",
        "    \n",
        "         ###\n",
        "    \n",
        "         ### X_180 pulse\n",
        "    \n",
        "        RZZ_schedule |= Play(X_180, another_Dchan) << int(2*new_duration+2*drive_samples)\n",
        "    \n",
        "         ## Y_90 pulse\n",
        "\n",
        "        RZZ_schedule |= Play(Y_pulse, Dchan) << int(2*new_duration+2*drive_samples)\n",
        "    \n",
        "        return RZZ_schedule\n",
        "    \n",
        "    else:\n",
        "        \n",
        "        RZZ_schedule = pulse.Schedule(name=\"RZZ gate pulse\") \n",
        "    \n",
        "        ### Y_-90 pulse\n",
        "    \n",
        "        RZZ_schedule |= Play(Y_pulse, Dchan)\n",
        "    \n",
        "        \n",
        "         ### \n",
        "    \n",
        "         ### Cross resonant pulses and X rotation echo pulse\n",
        "    \n",
        "        RZZ_schedule |= Play(dr_pulse[0], Dchan) << int(drive_samples)\n",
        "        RZZ_schedule |= Play(cr_pulse[0], uchan) << int(drive_samples)\n",
        "    \n",
        "        RZZ_schedule |= Play(X_180, another_Dchan) << int(new_duration+drive_samples)\n",
        "\n",
        "        RZZ_schedule |= Play(dr_pulse[1], Dchan) << int(new_duration+2*drive_samples)\n",
        "        RZZ_schedule |= Play(cr_pulse[1], uchan) << int(new_duration+2*drive_samples)\n",
        "    \n",
        "         ###\n",
        "    \n",
        "         ### X_180 pulse\n",
        "    \n",
        "        RZZ_schedule |= Play(X_180, another_Dchan) << int(2*new_duration+2*drive_samples)\n",
        "    \n",
        "         ## Y_90 pulse\n",
        "        \n",
        "        RZZ_schedule |= ShiftPhase(-math.pi, Dchan) << int(2*new_duration+2*drive_samples)\n",
        "        \n",
        "        for chan in control_chan1:\n",
        "            \n",
        "            RZZ_schedule |= ShiftPhase(-math.pi, chan) << int(2*new_duration+2*drive_samples)\n",
        "        \n",
        "        RZZ_schedule |= Play(Y_pulse, Dchan) << int(2*new_duration+2*drive_samples)\n",
        "        \n",
        "        RZZ_schedule |= ShiftPhase(-math.pi, Dchan) << int(2*new_duration+3*drive_samples)\n",
        "    \n",
        "        for chan in control_chan1: \n",
        "        \n",
        "            RZZ_schedule |= ShiftPhase(-math.pi, chan) << int(2*new_duration+3*drive_samples)\n",
        "    \n",
        "        return RZZ_schedule"
      ]
    },
    {
      "cell_type": "code",
      "execution_count": 12,
      "metadata": {
        "id": "J7NwEMFpGuT9"
      },
      "outputs": [],
      "source": [
        "\n",
        "# Noiseless simulated backend\n",
        "sim = QasmSimulator()"
      ]
    },
    {
      "cell_type": "code",
      "execution_count": 13,
      "metadata": {
        "id": "Og8g4UsrG3Wk"
      },
      "outputs": [],
      "source": [
        "# Parameterize variable t to be evaluated at t=pi later\n",
        "t = Parameter('t')"
      ]
    },
    {
      "cell_type": "code",
      "execution_count": 14,
      "metadata": {
        "id": "Jtr9SQ8fWzE0"
      },
      "outputs": [],
      "source": [
        "heis_qr = QuantumRegister(2)\n",
        "heis_qc = QuantumCircuit(heis_qr, name='heis')\n",
        "\n",
        "heis_qc.rz(-np.pi/2,1)\n",
        "heis_qc.cnot(1,0)\n",
        "heis_qc.rz(np.pi/2-2 * t, 0)\n",
        "heis_qc.ry(-np.pi/2+2 * t, 1)\n",
        "heis_qc.cnot(0,1)\n",
        "heis_qc.ry(np.pi/2-2 * t, 1)\n",
        "heis_qc.cnot(1,0)\n",
        "heis_qc.rz(np.pi/2,1)\n",
        "\n",
        "# Convert custom quantum circuit into a gate\n",
        "heis = heis_qc.to_instruction()"
      ]
    },
    {
      "cell_type": "code",
      "execution_count": 15,
      "metadata": {
        "id": "4lrLg6sXKSF8"
      },
      "outputs": [],
      "source": [
        "# Combine subcircuits into a single multiqubit gate representing a single trotter step\n",
        "num_qubits = 3\n",
        "\n",
        "Trot_qr = QuantumRegister(num_qubits)\n",
        "Trot_qc = QuantumCircuit(Trot_qr, name='Trot')\n",
        "\n",
        "for i in range(num_qubits - 2, -1,-1):\n",
        "    Trot_qc.append(heis, [Trot_qr[i], Trot_qr[i+1]])\n",
        "\n",
        "# Convert custom quantum circuit into a gate\n",
        "Trot_gate = Trot_qc.to_instruction()"
      ]
    },
    {
      "cell_type": "code",
      "execution_count": 17,
      "metadata": {
        "colab": {
          "base_uri": "https://localhost:8080/",
          "height": 413
        },
        "id": "A6NDcwFMKW-U",
        "outputId": "94c98352-059b-4ae0-f5fd-5abf578e596b"
      },
      "outputs": [
        {
          "output_type": "execute_result",
          "data": {
            "text/plain": [
              "<Figure size 1123.27x505.68 with 1 Axes>"
            ],
            "image/png": "[encoded data removed]"
          },
          "metadata": {},
          "execution_count": 17
        }
      ],
      "source": [
        "# The final time of the state evolution\n",
        "#epsilon=0.15\n",
        "\n",
        "target_time = np.pi\n",
        "\n",
        "# Number of trotter steps\n",
        "trotter_steps =6 ### CAN BE >= 4\n",
        "\n",
        "# Initialize quantum circuit for 3 qubits\n",
        "qr = QuantumRegister(7)\n",
        "qc = QuantumCircuit(qr)\n",
        "\n",
        "#t=(target_time/trotter_steps)\n",
        "\n",
        "# Prepare initial state (remember we are only evolving 3 of the 7 qubits on jakarta qubits (q_5, q_3, q_1) corresponding to the state |110>)\n",
        "qc.x([3,5])  # DO NOT MODIFY (|q_5,q_3,q_1> = |110>)\n",
        "\n",
        "# Simulate time evolution under H_heis3 Hamiltonian\n",
        "for _ in range(trotter_steps):\n",
        "    qc.append(Trot_gate, [qr[1], qr[3], qr[5]])\n",
        "\n",
        "# Evaluate simulation at target_time (t=pi) meaning each trotter step evolves pi/trotter_steps in time\n",
        "qc = qc.bind_parameters({t: target_time/trotter_steps})\n",
        "\n",
        "# Generate state tomography circuits to evaluate fidelity of simulation\n",
        "st_qcs = state_tomography_circuits(qc, [qr[1], qr[3], qr[5]])\n",
        "\n",
        "# Display circuit for confirmation\n",
        "st_qcs[-1].decompose().draw('mpl') \n",
        "\n",
        "#st_qcs[-1].draw('mpl')"
      ]
    },
    {
      "cell_type": "code",
      "execution_count": 18,
      "metadata": {
        "id": "mXaIZpEv9XSH"
      },
      "outputs": [],
      "source": [
        "def DD_circuit1(circuit, backend, qubits_list, initial_layout = None, name=False):\n",
        "\n",
        "  if initial_layout:\n",
        "\n",
        "    circuit = transpile(circuit, backend, optimization_level=3, scheduling_method='asap',initial_layout =init_layout)\n",
        "\n",
        "  else:\n",
        "\n",
        "    circuit = transpile(circuit, backend, optimization_level=3, scheduling_method='asap')\n",
        "\n",
        "  if name:\n",
        "\n",
        "    DD_cir = QuantumCircuit(*circuit.qregs,*circuit.cregs,name=circuit.name)\n",
        "\n",
        "  else:\n",
        "\n",
        "    DD_cir = QuantumCircuit(*circuit.qregs,*circuit.cregs)\n",
        "  \n",
        "  for operation in circuit[:]:\n",
        "\n",
        "    if type(operation[0])==qiskit.circuit.delay.Delay:\n",
        "\n",
        "      if  operation[0].duration >= 400 and operation[0].duration < 800:\n",
        "\n",
        "        q_index = operation[1][0].index\n",
        "\n",
        "        if q_index in qubits_list:\n",
        "\n",
        "          t=(operation[0].duration-320)//4\n",
        "\n",
        "          t = math.ceil((t)/16)*16\n",
        "\n",
        "          DD_cir.delay(t,[q_index],'dt')\n",
        "\n",
        "          DD_cir.x(q_index)\n",
        "\n",
        "          DD_cir.delay(2*t,[q_index],'dt')\n",
        "\n",
        "          DD_cir.z(q_index)\n",
        "\n",
        "          DD_cir.x(q_index)\n",
        "\n",
        "          DD_cir.z(q_index)\n",
        "\n",
        "      elif operation[0].duration >= 800:\n",
        "\n",
        "        q_index = operation[1][0].index\n",
        "\n",
        "        if q_index in qubits_list:\n",
        "\n",
        "          t=(operation[0].duration-640)//8\n",
        "\n",
        "          t = math.ceil((t)/16)*16\n",
        "\n",
        "          DD_cir.delay(t,[q_index],'dt')\n",
        "\n",
        "          DD_cir.rx(np.pi,q_index)\n",
        "\n",
        "          DD_cir.delay(2*t,[q_index],'dt')\n",
        "\n",
        "          DD_cir.ry(np.pi,q_index)\n",
        "\n",
        "          DD_cir.delay(2*t,[q_index],'dt')\n",
        "\n",
        "          DD_cir.rx(np.pi,q_index)\n",
        "\n",
        "          DD_cir.delay(2*t,[q_index],'dt')\n",
        "\n",
        "          DD_cir.ry(np.pi,q_index)\n",
        "\n",
        "        else:\n",
        "\n",
        "          DD_cir.data.append(operation)\n",
        "\n",
        "      else:\n",
        "        \n",
        "        DD_cir.data.append(operation)\n",
        "\n",
        "    else:\n",
        "\n",
        "      DD_cir.data.append(operation)\n",
        "\n",
        "  return DD_cir"
      ]
    },
    {
      "cell_type": "code",
      "execution_count": 19,
      "metadata": {
        "id": "TFV4lVRXg5A6"
      },
      "outputs": [],
      "source": [
        "def DD_circuit(circuit, backend, qubits_list, initial_layout = None, name=False):\n",
        "\n",
        "  if initial_layout:\n",
        "\n",
        "    circuit = transpile(circuit, backend, optimization_level=3, scheduling_method='asap',initial_layout =init_layout)\n",
        "\n",
        "  else:\n",
        "\n",
        "    circuit = transpile(circuit, backend, optimization_level=3, scheduling_method='asap')\n",
        "\n",
        "  if name:\n",
        "\n",
        "    DD_cir = QuantumCircuit(*circuit.qregs,*circuit.cregs,name=circuit.name)\n",
        "\n",
        "  else:\n",
        "\n",
        "    DD_cir = QuantumCircuit(*circuit.qregs,*circuit.cregs)\n",
        "  \n",
        "  for operation in circuit[:]:\n",
        "\n",
        "    if type(operation[0])==qiskit.circuit.delay.Delay:\n",
        "\n",
        "      if  operation[0].duration >= 400:\n",
        "\n",
        "        q_index = operation[1][0].index\n",
        "\n",
        "        if q_index in qubits_list:\n",
        "\n",
        "          t=(operation[0].duration-320)//4\n",
        "\n",
        "          t = math.ceil((t)/16)*16\n",
        "\n",
        "          DD_cir.delay(t,[q_index],'dt')\n",
        "\n",
        "          DD_cir.x(q_index)\n",
        "\n",
        "          DD_cir.delay(2*t,[q_index],'dt')\n",
        "\n",
        "          DD_cir.z(q_index)\n",
        "\n",
        "          DD_cir.x(q_index)\n",
        "\n",
        "          DD_cir.z(q_index)\n",
        "\n",
        "        else:\n",
        "\n",
        "          DD_cir.data.append(operation)\n",
        "\n",
        "      else:\n",
        "        \n",
        "        DD_cir.data.append(operation)\n",
        "\n",
        "    else:\n",
        "\n",
        "      DD_cir.data.append(operation)\n",
        "\n",
        "  return DD_cir"
      ]
    },
    {
      "cell_type": "code",
      "execution_count": 20,
      "metadata": {
        "id": "goiueFxAByky"
      },
      "outputs": [],
      "source": [
        "from qiskit import *\n",
        "import qiskit"
      ]
    },
    {
      "cell_type": "code",
      "execution_count": 21,
      "metadata": {
        "id": "AHQvPGm0y8zr"
      },
      "outputs": [],
      "source": [
        "from qiskit.ignis.mitigation.measurement import complete_meas_cal, CompleteMeasFitter"
      ]
    },
    {
      "cell_type": "code",
      "execution_count": null,
      "metadata": {
        "id": "f1iYv4SOJU90"
      },
      "outputs": [],
      "source": [
        "qubits_list = [1,3,5]\n",
        "\n",
        "cirs=[]\n",
        "\n",
        "for i in range(len(st_qcs)):\n",
        "\n",
        "    cir=DD_circuit(st_qcs[i], backend, qubits_list , name=True)\n",
        "\n",
        "    cirs.append(cir)"
      ]
    },
    {
      "cell_type": "code",
      "source": [
        "qubits_list = [1,3,5]\n",
        "\n",
        "shots=8192\n",
        "\n",
        "qr = QuantumRegister(len(qubits_list),'q')\n",
        "\n",
        "#sim_noisy_jakarta = QasmSimulator.from_backend(provider.get_backend('ibmq_jakarta'))\n",
        "\n",
        "#backend = jakarta\n",
        "\n",
        "meas_calibs, state_labels = complete_meas_cal(qr=qr, circlabel='mcal')"
      ],
      "metadata": {
        "id": "453KLj5ZBuAP"
      },
      "execution_count": null,
      "outputs": []
    },
    {
      "cell_type": "code",
      "execution_count": null,
      "metadata": {
        "colab": {
          "base_uri": "https://localhost:8080/"
        },
        "id": "S_Q3ZNRwzI6m",
        "outputId": "5daaab70-ca95-4afd-e088-22050d29052d"
      },
      "outputs": [
        {
          "name": "stdout",
          "output_type": "stream",
          "text": [
            "Job ID 624c6eed69892808d40037f4\n"
          ]
        }
      ],
      "source": [
        "\n",
        "\n",
        "init_layout = {}\n",
        "\n",
        "for i,j in enumerate(qubits_list):\n",
        "\n",
        "    init_layout[qr[i]] = j\n",
        "\n",
        "cal_results = execute(meas_calibs, backend, shots=shots, initial_layout=init_layout)\n",
        "\n",
        "print('Job ID', cal_results.job_id())"
      ]
    },
    {
      "cell_type": "code",
      "execution_count": null,
      "metadata": {
        "colab": {
          "base_uri": "https://localhost:8080/"
        },
        "id": "STuvLeLjKbEu",
        "outputId": "6c203aaf-ceac-4b30-ffac-9a81f351e857"
      },
      "outputs": [
        {
          "name": "stdout",
          "output_type": "stream",
          "text": [
            "Job ID 624c6ef0f65d78ca9138f3da\n",
            "Job ID 624c6ef3d72033525367c9a5\n",
            "Job ID 624c6ef5d72033f98267c9a6\n",
            "Job ID 624c6efb4b515253947c5bf6\n"
          ]
        }
      ],
      "source": [
        "shots = 8192\n",
        "reps = 4\n",
        "\n",
        "#sim_noisy_jakarta = QasmSimulator.from_backend(provider.get_backend('ibmq_jakarta'))\n",
        "#backend = sim_noisy_jakarta\n",
        "# reps = 8\n",
        "#backend = jakarta\n",
        "\n",
        "jobs = []\n",
        "for _ in range(reps):\n",
        "    # execute\n",
        "    job = execute(cirs, backend, shots=shots)\n",
        "    #job = execute(st_qcs, backend, shots=shots)\n",
        "    print('Job ID', job.job_id())\n",
        "    jobs.append(job)"
      ]
    },
    {
      "cell_type": "code",
      "execution_count": null,
      "metadata": {
        "colab": {
          "background_save": true,
          "base_uri": "https://localhost:8080/"
        },
        "id": "WuQa2RYTKbxx",
        "outputId": "30c33841-015f-48d9-b882-0cf5b7eb7ebc"
      },
      "outputs": [
        {
          "name": "stdout",
          "output_type": "stream",
          "text": [
            "Job Status: job is queued (492)"
          ]
        }
      ],
      "source": [
        "for job in jobs:\n",
        "    job_monitor(job)\n",
        "    try:\n",
        "        if job.error_message() is not None:\n",
        "            print(job.error_message())\n",
        "    except:\n",
        "        pass"
      ]
    },
    {
      "cell_type": "code",
      "execution_count": null,
      "metadata": {
        "id": "9BMaPQbeATNV"
      },
      "outputs": [],
      "source": [
        "cal_results=backend.retrieve_job('624c6eed69892808d40037f4')\n",
        "\n",
        "ids=['624c6ef0f65d78ca9138f3da','624c6ef3d72033525367c9a5','624c6ef5d72033f98267c9a6','624c6efb4b515253947c5bf6']\n",
        "jobs=[]\n",
        "for id in ids:\n",
        "  jobs.append(backend.retrieve_job(id))"
      ]
    },
    {
      "cell_type": "code",
      "execution_count": null,
      "metadata": {
        "id": "tM0VW2fW7sGI"
      },
      "outputs": [],
      "source": [
        "meas_fitter = CompleteMeasFitter(cal_results.result(), state_labels)\n",
        "\n",
        "meas_filter = meas_fitter.filter"
      ]
    },
    {
      "cell_type": "code",
      "execution_count": null,
      "metadata": {
        "id": "ThHkBs_FKez-",
        "colab": {
          "base_uri": "https://localhost:8080/"
        },
        "outputId": "9672d660-171d-4da6-935b-067963ca4724"
      },
      "outputs": [
        {
          "output_type": "stream",
          "name": "stdout",
          "text": [
            "state tomography fidelity = 0.5705 ± 0.0080\n"
          ]
        }
      ],
      "source": [
        "# Compute the state tomography based on the st_qcs quantum circuits and the results from those ciricuits\n",
        "def state_tomo(result, st_qcs):\n",
        "    # The expected final state; necessary to determine state tomography fidelity\n",
        "    target_state = (One^One^Zero).to_matrix()  # DO NOT MODIFY (|q_5,q_3,q_1> = |110>)\n",
        "    # Fit state tomography results\n",
        "\n",
        "    mit_result = meas_fitter.filter.apply(result)\n",
        "\n",
        "    tomo_fitter = StateTomographyFitter(mit_result, st_qcs)\n",
        "\n",
        "    rho_fit = tomo_fitter.fit(method='lstsq')\n",
        "    # Compute fidelity\n",
        "    fid = state_fidelity(rho_fit, target_state)\n",
        "    return fid\n",
        "\n",
        "# Compute tomography fidelities for each repetition\n",
        "\n",
        "fids = []\n",
        "for job in jobs:\n",
        "    fid = state_tomo(job.result(), st_qcs)\n",
        "    fids.append(fid)\n",
        "    \n",
        "print('state tomography fidelity = {:.4f} \\u00B1 {:.4f}'.format(np.mean(fids), np.std(fids)))"
      ]
    },
    {
      "cell_type": "code",
      "execution_count": null,
      "metadata": {
        "id": "l2j_3guSuFBi",
        "colab": {
          "base_uri": "https://localhost:8080/"
        },
        "outputId": "88728cce-fda3-4ddc-b35d-805d10ae322d"
      },
      "outputs": [
        {
          "output_type": "execute_result",
          "data": {
            "text/plain": [
              "[0.559019041412502, 0.5677427654038545, 0.5748001996966093, 0.5803688593302253]"
            ]
          },
          "metadata": {},
          "execution_count": 29
        }
      ],
      "source": [
        "fids"
      ]
    },
    {
      "cell_type": "code",
      "execution_count": null,
      "metadata": {
        "id": "Fw7DB2YiKilC"
      },
      "outputs": [],
      "source": [
        "import qiskit.tools.jupyter\n",
        "%qiskit_version_table"
      ]
    },
    {
      "cell_type": "code",
      "execution_count": null,
      "metadata": {
        "id": "yUuZ4wlP5z3I"
      },
      "outputs": [],
      "source": [
        ""
      ]
    }
  ],
  "metadata": {
    "colab": {
      "collapsed_sections": [],
      "name": "Mini_Heisenberg_model_best_basis_gate_57.ipynb",
      "provenance": []
    },
    "kernelspec": {
      "display_name": "Python 3",
      "name": "python3"
    },
    "language_info": {
      "name": "python"
    }
  },
  "nbformat": 4,
  "nbformat_minor": 0
}